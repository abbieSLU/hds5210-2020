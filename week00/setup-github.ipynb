{
 "cells": [
  {
   "cell_type": "markdown",
   "metadata": {},
   "source": [
    "Welcome to HDS5210\n",
    "===\n",
    "\n",
    "To help develop some good programming habits during this class, one thing we will do is use GitHub.com to manage weekly assignments. Once you've created a GitHub.com account, you can follow the instructions below to get a current copy of the course materials and exercises.\n",
    "\n",
    "## 1. Generate SSH Key\n",
    "\n",
    "\n",
    "GitHub.com uses a protocol called SSH (Secure SHell) to manage communications between client computers and its services. The SSH protocol uses a private/public key pair to encrypt communications and verify the authenticity of users. For that protocol to work, GitHub.com has to know a public key, whose private key is configured on the computer that will be running git commands, in this case, our Jupyter server. You can also do commenads like this on your own laptop if you want to access the class files on your local machine rather than only through the web interface."
   ]
  },
  {
   "cell_type": "markdown",
   "metadata": {},
   "source": [
    "To run the code in each of the cells below, click to the left of the code to be run.  You'll see a blue bar showup to indicate which cell you currently have selected.\n",
    "\n",
    "Then press `Shift-Enter` or `Ctrl-Enter`.\n",
    "\n",
    "You should see some text appear below the cell you've just run!"
   ]
  },
  {
   "cell_type": "code",
   "execution_count": 7,
   "metadata": {},
   "outputs": [
    {
     "name": "stdout",
     "output_type": "stream",
     "text": [
      "Your SSH Key already exists...\n",
      "\n",
      "ssh-rsa AAAAB3NzaC1yc2EAAAADAQABAAABAQDd2L1ejsK234u9tMnLk+W2Tno+e8ODUZBTufFBfnu0qrNdpzN8jB78GEUMWGMMwiHan3zGZCFUkrtiz02dehFUjmSdkG/e8OaIpiajMcM47Htd+4HaYHIhg5EglDyIbVibyKWrdBikK8DC9xBb8c2ZkbfBnctlsmfKNwMyN6tY2uVxhlcTUreOU81ZTGQtA2zsm+lbA2OMN8uu4UAqVh43PEVvyegeZSUWOzmt5d0v45V/3wT32hogmOugUSWrbAfXnXRu/E7IbQqdx12mgcb1rcHFg7dU1lCrsbfMgZZ5O1hporzoL8gCFCCE1Vb8EqUlNmNk3ZXEYEDfsFRKJVTh jupyter-abbieslu@ip-172-31-25-190\n"
     ]
    },
    {
     "name": "stderr",
     "output_type": "stream",
     "text": [
      "shell-init: error retrieving current directory: getcwd: cannot access parent directories: No such file or directory\n",
      "chdir: error retrieving current directory: getcwd: cannot access parent directories: No such file or directory\n"
     ]
    }
   ],
   "source": [
    "%%bash\n",
    "cd ~\n",
    "if [ -e .ssh/id_rsa ]; \n",
    "then\n",
    "  echo \"Your SSH Key already exists...\"\n",
    "  echo \"\"\n",
    "else\n",
    "  ssh-keygen -t rsa -N \"\" -f ~/.ssh/id_rsa -q;\n",
    "fi\n",
    "cd ~/.ssh\n",
    "cat id_rsa.pub"
   ]
  },
  {
   "cell_type": "markdown",
   "metadata": {},
   "source": [
    "## 2. Add SSH Key to GitHub.com\n",
    "\n",
    "\n",
    "Take the value you get from above, excluding any message that might say \"Your SSH Key already exists\" and add it as an SSH key in GitHub.com.  Whay you're copying and pasting should look something like this:\n",
    "\n",
    "```\n",
    "ssh-rsa AAAAB3NzaC1yc2EAAAADAQABAAABAQCh3wcKuw0KLe5dnzT5xnxUipMeHS8fbYw/5O/psN/hYhz3BMecdjK/g0TvSBMU9xPZNx3cXXJjsz92...\n",
    "HbsZ/P/NglpcvjQdREwN0ZQbGImtQd9luoHOYBklkglfuKefTRfGVRI+HduIKsIQd3tyBRPGJiLD7i8vKQDM1p jupyter-paulboal@ip-172-31-25-190\n",
    "\n",
    "```\n",
    "\n",
    "* Login to https://GitHub.com\n",
    "* Click your profile image in the upper-right corner and choose `Settings`\n",
    "* Choose SSH and GPG Keys from the left-hand menu\n",
    "* Click New SSH Key in the upper-right corner\n",
    "* Use a title of something like SLUCOR and then paste the text from above into the key text box.\n",
    "* Click Add SSH Key"
   ]
  },
  {
   "cell_type": "markdown",
   "metadata": {},
   "source": [
    "## 3. Configure some git settings\n",
    "\n",
    "Set some basic Git settings like email and name.\n",
    "\n",
    "Replace my example user name and email address with yours."
   ]
  },
  {
   "cell_type": "code",
   "execution_count": 4,
   "metadata": {},
   "outputs": [
    {
     "name": "stderr",
     "output_type": "stream",
     "text": [
      "shell-init: error retrieving current directory: getcwd: cannot access parent directories: No such file or directory\n",
      "fatal: Unable to read current working directory: No such file or directory\n",
      "fatal: Unable to read current working directory: No such file or directory\n",
      "ERROR:root:Internal Python error in the inspect module.\n",
      "Below is the traceback from this internal error.\n",
      "\n"
     ]
    },
    {
     "name": "stdout",
     "output_type": "stream",
     "text": [
      "Traceback (most recent call last):\n",
      "  File \"/opt/tljh/user/lib/python3.6/site-packages/IPython/core/interactiveshell.py\", line 3319, in run_code\n",
      "    exec(code_obj, self.user_global_ns, self.user_ns)\n",
      "  File \"<ipython-input-4-f797256ce327>\", line 1, in <module>\n",
      "    get_ipython().run_cell_magic('bash', '', 'git config --global user.email \"boalpe@slu.edu\"\\ngit config --global user.name \"Paul Boal\"\\n')\n",
      "  File \"/opt/tljh/user/lib/python3.6/site-packages/IPython/core/interactiveshell.py\", line 2352, in run_cell_magic\n",
      "    result = fn(*args, **kwargs)\n",
      "  File \"/opt/tljh/user/lib/python3.6/site-packages/IPython/core/magics/script.py\", line 142, in named_script_magic\n",
      "    return self.shebang(line, cell)\n",
      "  File \"</opt/tljh/user/lib/python3.6/site-packages/decorator.py:decorator-gen-110>\", line 2, in shebang\n",
      "  File \"/opt/tljh/user/lib/python3.6/site-packages/IPython/core/magic.py\", line 187, in <lambda>\n",
      "    call = lambda f, *a, **k: f(*a, **k)\n",
      "  File \"/opt/tljh/user/lib/python3.6/site-packages/IPython/core/magics/script.py\", line 245, in shebang\n",
      "    raise CalledProcessError(p.returncode, cell, output=out, stderr=err)\n",
      "subprocess.CalledProcessError: Command 'b'git config --global user.email \"boalpe@slu.edu\"\\ngit config --global user.name \"Paul Boal\"\\n'' returned non-zero exit status 128.\n",
      "\n",
      "During handling of the above exception, another exception occurred:\n",
      "\n",
      "Traceback (most recent call last):\n",
      "  File \"/opt/tljh/user/lib/python3.6/site-packages/IPython/core/interactiveshell.py\", line 2034, in showtraceback\n",
      "    stb = value._render_traceback_()\n",
      "AttributeError: 'CalledProcessError' object has no attribute '_render_traceback_'\n",
      "\n",
      "During handling of the above exception, another exception occurred:\n",
      "\n",
      "Traceback (most recent call last):\n",
      "  File \"/opt/tljh/user/lib/python3.6/site-packages/IPython/core/ultratb.py\", line 1151, in get_records\n",
      "    return _fixed_getinnerframes(etb, number_of_lines_of_context, tb_offset)\n",
      "  File \"/opt/tljh/user/lib/python3.6/site-packages/IPython/core/ultratb.py\", line 319, in wrapped\n",
      "    return f(*args, **kwargs)\n",
      "  File \"/opt/tljh/user/lib/python3.6/site-packages/IPython/core/ultratb.py\", line 353, in _fixed_getinnerframes\n",
      "    records = fix_frame_records_filenames(inspect.getinnerframes(etb, context))\n",
      "  File \"/opt/tljh/user/lib/python3.6/inspect.py\", line 1488, in getinnerframes\n",
      "    frameinfo = (tb.tb_frame,) + getframeinfo(tb, context)\n",
      "  File \"/opt/tljh/user/lib/python3.6/inspect.py\", line 1446, in getframeinfo\n",
      "    filename = getsourcefile(frame) or getfile(frame)\n",
      "  File \"/opt/tljh/user/lib/python3.6/inspect.py\", line 696, in getsourcefile\n",
      "    if getattr(getmodule(object, filename), '__loader__', None) is not None:\n",
      "  File \"/opt/tljh/user/lib/python3.6/inspect.py\", line 725, in getmodule\n",
      "    file = getabsfile(object, _filename)\n",
      "  File \"/opt/tljh/user/lib/python3.6/inspect.py\", line 709, in getabsfile\n",
      "    return os.path.normcase(os.path.abspath(_filename))\n",
      "  File \"/opt/tljh/user/lib/python3.6/posixpath.py\", line 376, in abspath\n",
      "    cwd = os.getcwd()\n",
      "FileNotFoundError: [Errno 2] No such file or directory\n"
     ]
    },
    {
     "ename": "CalledProcessError",
     "evalue": "Command 'b'git config --global user.email \"boalpe@slu.edu\"\\ngit config --global user.name \"Paul Boal\"\\n'' returned non-zero exit status 128.",
     "output_type": "error",
     "traceback": [
      "\u001b[0;31m---------------------------------------------------------------------------\u001b[0m"
     ]
    }
   ],
   "source": [
    "%%bash\n",
    "git config --global user.email \"boalpe@slu.edu\"\n",
    "git config --global user.name \"Paul Boal\""
   ]
  },
  {
   "cell_type": "markdown",
   "metadata": {},
   "source": [
    "## 4. Fork the class repository on GitHub\n",
    "\n",
    "Some terms for understanding git and github.\n",
    "\n",
    "**repository** - A \"project\" or an area where you can control access and manage a related set of files.  Typically you'll have one project per repository, but that may not be the case on much larger projects.\n",
    "\n",
    "**fork** - Take someone else's repository and create your own copy of it in GitHub.\n",
    "\n",
    "**clone** - Get a brand new local copy of an existing repository from GitHub.\n",
    "\n",
    "**branch** - A way to split off from a single starting version of project code, make separate and potentially independent changes, and then merge those changes made in isolation back together.\n",
    "\n",
    "**chekcout** - Switch from one branch of code to another.\n",
    "\n",
    "**commit** - Take all the file edits you've made and snapshot the code at this point.  Now, you can return to that code at any point in time in the future.\n",
    "\n",
    "**push** - Take the set of changes you've made and synchronize them with the github server.  Now other users that you authorize can see the changes you've made.\n",
    "\n",
    "**pull** - Ask github for any changes that other people may have made since the last time you synchronized, and try to merge them into your local code automatically."
   ]
  },
  {
   "cell_type": "markdown",
   "metadata": {},
   "source": [
    "Go to the class project repository at this link https://github.com/paulboal/hds5210-2020/\n",
    "\n",
    "Then click the button at the top right of the page that says **Fork** and you'll receive a message saying \"this will take a few minutes\".  It won't.  It'll own be a few seconds.\n",
    "\n",
    "Now you have your own personal copy of the class repository."
   ]
  },
  {
   "cell_type": "markdown",
   "metadata": {},
   "source": [
    "## 5. Clone your repository into Jupyter\n",
    "\n",
    "The bash commands below will use your login name from Jupyter (which was automatically set to be the same as your GitHub user name) and clone your new personal repository into a local copy on the Jupyter server."
   ]
  },
  {
   "cell_type": "code",
   "execution_count": 8,
   "metadata": {},
   "outputs": [
    {
     "name": "stdout",
     "output_type": "stream",
     "text": [
      "total 4\n",
      "drwxr-xr-x 2 jupyter-abbieslu jupyter-abbieslu 4096 Jan 28 19:34 week00\n"
     ]
    },
    {
     "name": "stderr",
     "output_type": "stream",
     "text": [
      "shell-init: error retrieving current directory: getcwd: cannot access parent directories: No such file or directory\n",
      "chdir: error retrieving current directory: getcwd: cannot access parent directories: No such file or directory\n",
      "Cloning into 'hds5210-2020'...\n",
      "Warning: Permanently added the RSA host key for IP address '140.82.114.4' to the list of known hosts.\n"
     ]
    }
   ],
   "source": [
    "%%bash\n",
    "cd ~\n",
    "rm -rf hds5210-2020\n",
    "echo -e \"Host github.com\\n\\tStrictHostKeyChecking no\\n\" >> ~/.ssh/config\n",
    "git clone git@github.com:${USER##jupyter-}/hds5210-2020.git\n",
    "ls -l hds5210-2020"
   ]
  },
  {
   "cell_type": "code",
   "execution_count": 10,
   "metadata": {},
   "outputs": [
    {
     "name": "stderr",
     "output_type": "stream",
     "text": [
      "shell-init: error retrieving current directory: getcwd: cannot access parent directories: No such file or directory\n",
      "chdir: error retrieving current directory: getcwd: cannot access parent directories: No such file or directory\n",
      "bash: line 1: cd: /home/jupyter-abbieslu/cd-hds5210-2020-week02: No such file or directory\n",
      "fatal: Unable to read current working directory: No such file or directory\n",
      "ERROR:root:Internal Python error in the inspect module.\n",
      "Below is the traceback from this internal error.\n",
      "\n"
     ]
    },
    {
     "name": "stdout",
     "output_type": "stream",
     "text": [
      "Traceback (most recent call last):\n",
      "  File \"/opt/tljh/user/lib/python3.6/site-packages/IPython/core/interactiveshell.py\", line 3319, in run_code\n",
      "    exec(code_obj, self.user_global_ns, self.user_ns)\n",
      "  File \"<ipython-input-10-35c02afd4635>\", line 1, in <module>\n",
      "    get_ipython().run_cell_magic('bash', '', 'cd ~/cd-hds5210-2020-week02\\ngit pull\\n')\n",
      "  File \"/opt/tljh/user/lib/python3.6/site-packages/IPython/core/interactiveshell.py\", line 2352, in run_cell_magic\n",
      "    result = fn(*args, **kwargs)\n",
      "  File \"/opt/tljh/user/lib/python3.6/site-packages/IPython/core/magics/script.py\", line 142, in named_script_magic\n",
      "    return self.shebang(line, cell)\n",
      "  File \"</opt/tljh/user/lib/python3.6/site-packages/decorator.py:decorator-gen-110>\", line 2, in shebang\n",
      "  File \"/opt/tljh/user/lib/python3.6/site-packages/IPython/core/magic.py\", line 187, in <lambda>\n",
      "    call = lambda f, *a, **k: f(*a, **k)\n",
      "  File \"/opt/tljh/user/lib/python3.6/site-packages/IPython/core/magics/script.py\", line 245, in shebang\n",
      "    raise CalledProcessError(p.returncode, cell, output=out, stderr=err)\n",
      "subprocess.CalledProcessError: Command 'b'cd ~/cd-hds5210-2020-week02\\ngit pull\\n'' returned non-zero exit status 128.\n",
      "\n",
      "During handling of the above exception, another exception occurred:\n",
      "\n",
      "Traceback (most recent call last):\n",
      "  File \"/opt/tljh/user/lib/python3.6/site-packages/IPython/core/interactiveshell.py\", line 2034, in showtraceback\n",
      "    stb = value._render_traceback_()\n",
      "AttributeError: 'CalledProcessError' object has no attribute '_render_traceback_'\n",
      "\n",
      "During handling of the above exception, another exception occurred:\n",
      "\n",
      "Traceback (most recent call last):\n",
      "  File \"/opt/tljh/user/lib/python3.6/site-packages/IPython/core/ultratb.py\", line 1151, in get_records\n",
      "    return _fixed_getinnerframes(etb, number_of_lines_of_context, tb_offset)\n",
      "  File \"/opt/tljh/user/lib/python3.6/site-packages/IPython/core/ultratb.py\", line 319, in wrapped\n",
      "    return f(*args, **kwargs)\n",
      "  File \"/opt/tljh/user/lib/python3.6/site-packages/IPython/core/ultratb.py\", line 353, in _fixed_getinnerframes\n",
      "    records = fix_frame_records_filenames(inspect.getinnerframes(etb, context))\n",
      "  File \"/opt/tljh/user/lib/python3.6/inspect.py\", line 1488, in getinnerframes\n",
      "    frameinfo = (tb.tb_frame,) + getframeinfo(tb, context)\n",
      "  File \"/opt/tljh/user/lib/python3.6/inspect.py\", line 1446, in getframeinfo\n",
      "    filename = getsourcefile(frame) or getfile(frame)\n",
      "  File \"/opt/tljh/user/lib/python3.6/inspect.py\", line 696, in getsourcefile\n",
      "    if getattr(getmodule(object, filename), '__loader__', None) is not None:\n",
      "  File \"/opt/tljh/user/lib/python3.6/inspect.py\", line 725, in getmodule\n",
      "    file = getabsfile(object, _filename)\n",
      "  File \"/opt/tljh/user/lib/python3.6/inspect.py\", line 709, in getabsfile\n",
      "    return os.path.normcase(os.path.abspath(_filename))\n",
      "  File \"/opt/tljh/user/lib/python3.6/posixpath.py\", line 376, in abspath\n",
      "    cwd = os.getcwd()\n",
      "FileNotFoundError: [Errno 2] No such file or directory\n"
     ]
    },
    {
     "ename": "CalledProcessError",
     "evalue": "Command 'b'cd ~/cd-hds5210-2020-week02\\ngit pull\\n'' returned non-zero exit status 128.",
     "output_type": "error",
     "traceback": [
      "\u001b[0;31m---------------------------------------------------------------------------\u001b[0m"
     ]
    }
   ],
   "source": [
    "%%bash\n",
    "cd ~/cd-hds5210-2020-week02\n",
    "git pull"
   ]
  },
  {
   "cell_type": "markdown",
   "metadata": {},
   "source": [
    "The last message above should simply say that everything is already up to date.  If you run into any issues, find me on https://slucor.slack.com"
   ]
  },
  {
   "cell_type": "markdown",
   "metadata": {},
   "source": [
    "## 6. Add me as a collaborator to your personal GitHub repository\n",
    "\n",
    "1. Login to https://github.com and click the link that Repositories, if your new repository isn't already showing there\n",
    "2. Right underneath your repository name is a list of links: <>Code, Pull requests, >Actions, Projects, etc.  Click the one that says **Settings**\n",
    "3. On the next screen, click the **Collaborators** menu item on the left\n",
    "4. Where it says **Add collaborator** type in `paulboal` and click the **Add collaborator** button\n",
    "\n",
    "Now you've added me as a collaborator to your project.  I'll be able to see the code you checking and provide feedback."
   ]
  },
  {
   "cell_type": "markdown",
   "metadata": {},
   "source": [
    "END OF ASSIGNMENT 0\n",
    "--"
   ]
  },
  {
   "cell_type": "code",
   "execution_count": 9,
   "metadata": {},
   "outputs": [
    {
     "ename": "SyntaxError",
     "evalue": "invalid syntax (<ipython-input-9-11a53563f496>, line 1)",
     "output_type": "error",
     "traceback": [
      "\u001b[0;36m  File \u001b[0;32m\"<ipython-input-9-11a53563f496>\"\u001b[0;36m, line \u001b[0;32m1\u001b[0m\n\u001b[0;31m    echo \"# cd-hds5210-2020-week02\" >> README.md\u001b[0m\n\u001b[0m                                  ^\u001b[0m\n\u001b[0;31mSyntaxError\u001b[0m\u001b[0;31m:\u001b[0m invalid syntax\n"
     ]
    }
   ],
   "source": [
    "echo \"# cd-hds5210-2020-week02\" >> README.md\n",
    "git init\n",
    "git add README.md\n",
    "git commit -m \"first commit\"\n",
    "git remote add origin git@github.com:abbieSLU/cd-hds5210-2020-week02.git\n",
    "git push -u origin master"
   ]
  },
  {
   "cell_type": "code",
   "execution_count": null,
   "metadata": {},
   "outputs": [],
   "source": []
  }
 ],
 "metadata": {
  "kernelspec": {
   "display_name": "Python 3",
   "language": "python",
   "name": "python3"
  },
  "language_info": {
   "codemirror_mode": {
    "name": "ipython",
    "version": 3
   },
   "file_extension": ".py",
   "mimetype": "text/x-python",
   "name": "python",
   "nbconvert_exporter": "python",
   "pygments_lexer": "ipython3",
   "version": "3.6.7"
  }
 },
 "nbformat": 4,
 "nbformat_minor": 2
}
