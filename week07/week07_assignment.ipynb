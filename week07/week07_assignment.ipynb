{
 "cells": [
  {
   "cell_type": "markdown",
   "metadata": {},
   "source": [
    "# Week 7 Assignment\n",
    "\n",
    "This week has been all about getting information off the internet both in structured data formats (CSV, JSON, etc) as well as HTML.  Answer the questions below as instructed."
   ]
  },
  {
   "cell_type": "code",
   "execution_count": null,
   "metadata": {},
   "outputs": [],
   "source": []
  },
  {
   "cell_type": "markdown",
   "metadata": {},
   "source": [
    "### 31.1 Finding files on the internet\n",
    "\n",
    "Go to healthdata.gov and find a file that looks interesting to you.  Provide the metadata below that describes the file you located.\n",
    "\n",
    "The cell below is a \"markdown\" cell.  Just double-click it to edit the contents and then Shift-Enter to show the content as formatted text.\n",
    "\n",
    "---"
   ]
  },
  {
   "cell_type": "markdown",
   "metadata": {},
   "source": [
    "**File Name:**  NCHS_-_Teen_Birth_Rates_for_Females_by_Age_Group__Race__and_Hispanic_Origin__United_States\n",
    "**URL to Page:** https://healthdata.gov/dataset/nchs-teen-birth-rates-females-age-group-race-and-hispanic-origin-united-states\n",
    "\n",
    "**Description:** This file contains information regarding the birth data by race before 1980 in the United States. Also, the data contains information of the race of mother and child. This information does not contain states of Louisiana, New Hampshire and Oklahoma from 1989, 1991 and 1992\n",
    "\n",
    "**URL to Actual File:** https://healthdata.gov/dataset/nchs-teen-birth-rates-females-age-group-race-and-hispanic-origin-united-states/resource#{view-graph:{graphOptions:{hooks:{processOffset:{},bindEvents:{}}}},graphOptions:{hooks:{processOffset:{},bindEvents:{}}}}\n",
    "\n",
    "**File Format:** CSV\n",
    "\n"
   ]
  },
  {
   "cell_type": "markdown",
   "metadata": {},
   "source": [
    "---"
   ]
  },
  {
   "cell_type": "markdown",
   "metadata": {},
   "source": [
    "### 31.2 Use Pandas to load data from internet\n",
    "\n",
    "Now write a block of code (doesn't need to be in a function) that will load the file using Pandas and describe the shape of the file contents.  I've provided a cell with some comments in it to help get you started.\n",
    "\n",
    "Pandas documentation for loading data https://pandas.pydata.org/pandas-docs/version/0.23.4/api.html#input-output\n",
    "\n",
    "Pandas documentation for describing the shape of data https://pandas.pydata.org/pandas-docs/version/0.23.4/generated/pandas.DataFrame.shape.html"
   ]
  },
  {
   "cell_type": "code",
   "execution_count": 3,
   "metadata": {},
   "outputs": [
    {
     "name": "stdout",
     "output_type": "stream",
     "text": [
      "Number of rows:896\n",
      "Number of columns:4\n"
     ]
    }
   ],
   "source": [
    "import pandas as pd\n",
    "\"\"\"\n",
    "This block of code uses Pandas to load the teen birth rates data from the healthdata.gov as a CSV file. The code reads the CSV directly and then the number of rows\n",
    "and columns are counted.     \n",
    "\"\"\"\n",
    "\n",
    "# Load data using one of the read functions depending on your data file type\n",
    "# data = pd.read_ ...\n",
    "birth_rates='NCHS_-_Teen_Birth_Rates_for_Females_by_Age_Group__Race__and_Hispanic_Origin__United_States.csv' #assign new variable \n",
    "df=pd.read_csv(birth_rates) #reads the csv files new variable is created to make it easier to follow in the code (from a reader's perspective)\n",
    "\n",
    "#data= pd.read_csv(birth_rates[['Year','Birth Rate']])\n",
    "with open(birth_rates) as x:\n",
    "    new =x.readlines()\n",
    "totals=(len(new)-1) #we  subtract one to account for heading \n",
    "total_colu=len(df.axes[1])\n",
    "print(\"Number of rows:\" + str(totals))\n",
    "print(\"Number of columns:\" +str(total_colu))\n",
    "# Print out the row / column count\n"
   ]
  },
  {
   "cell_type": "code",
   "execution_count": 4,
   "metadata": {},
   "outputs": [
    {
     "data": {
      "text/html": [
       "<div>\n",
       "<style scoped>\n",
       "    .dataframe tbody tr th:only-of-type {\n",
       "        vertical-align: middle;\n",
       "    }\n",
       "\n",
       "    .dataframe tbody tr th {\n",
       "        vertical-align: top;\n",
       "    }\n",
       "\n",
       "    .dataframe thead th {\n",
       "        text-align: right;\n",
       "    }\n",
       "</style>\n",
       "<table border=\"1\" class=\"dataframe\">\n",
       "  <thead>\n",
       "    <tr style=\"text-align: right;\">\n",
       "      <th></th>\n",
       "      <th>Year</th>\n",
       "      <th>Race or Hispanic Origin</th>\n",
       "      <th>Age Group</th>\n",
       "      <th>Birth Rate</th>\n",
       "    </tr>\n",
       "  </thead>\n",
       "  <tbody>\n",
       "    <tr>\n",
       "      <th>0</th>\n",
       "      <td>1960</td>\n",
       "      <td>All Races</td>\n",
       "      <td>10-14 Years</td>\n",
       "      <td>0.8</td>\n",
       "    </tr>\n",
       "    <tr>\n",
       "      <th>1</th>\n",
       "      <td>1960</td>\n",
       "      <td>All Races</td>\n",
       "      <td>15-17 Years</td>\n",
       "      <td>43.9</td>\n",
       "    </tr>\n",
       "    <tr>\n",
       "      <th>2</th>\n",
       "      <td>1960</td>\n",
       "      <td>All Races</td>\n",
       "      <td>15-19 Years</td>\n",
       "      <td>89.1</td>\n",
       "    </tr>\n",
       "    <tr>\n",
       "      <th>3</th>\n",
       "      <td>1960</td>\n",
       "      <td>All Races</td>\n",
       "      <td>18-19 Years</td>\n",
       "      <td>166.7</td>\n",
       "    </tr>\n",
       "    <tr>\n",
       "      <th>4</th>\n",
       "      <td>1961</td>\n",
       "      <td>All Races</td>\n",
       "      <td>10-14 Years</td>\n",
       "      <td>0.9</td>\n",
       "    </tr>\n",
       "    <tr>\n",
       "      <th>...</th>\n",
       "      <td>...</td>\n",
       "      <td>...</td>\n",
       "      <td>...</td>\n",
       "      <td>...</td>\n",
       "    </tr>\n",
       "    <tr>\n",
       "      <th>891</th>\n",
       "      <td>2017</td>\n",
       "      <td>Non-Hispanic, Single Race Native Hawaiian or P...</td>\n",
       "      <td>18-19 years</td>\n",
       "      <td>50.6</td>\n",
       "    </tr>\n",
       "    <tr>\n",
       "      <th>892</th>\n",
       "      <td>2016</td>\n",
       "      <td>Non-Hispanic, Single Race Native Hawaiian or P...</td>\n",
       "      <td>10-14 years</td>\n",
       "      <td>NaN</td>\n",
       "    </tr>\n",
       "    <tr>\n",
       "      <th>893</th>\n",
       "      <td>2016</td>\n",
       "      <td>Non-Hispanic, Single Race Native Hawaiian or P...</td>\n",
       "      <td>15-19 years</td>\n",
       "      <td>28.6</td>\n",
       "    </tr>\n",
       "    <tr>\n",
       "      <th>894</th>\n",
       "      <td>2016</td>\n",
       "      <td>Non-Hispanic, Single Race Native Hawaiian or P...</td>\n",
       "      <td>15-17 years</td>\n",
       "      <td>11.0</td>\n",
       "    </tr>\n",
       "    <tr>\n",
       "      <th>895</th>\n",
       "      <td>2016</td>\n",
       "      <td>Non-Hispanic, Single Race Native Hawaiian or P...</td>\n",
       "      <td>18-19 years</td>\n",
       "      <td>55.3</td>\n",
       "    </tr>\n",
       "  </tbody>\n",
       "</table>\n",
       "<p>896 rows × 4 columns</p>\n",
       "</div>"
      ],
      "text/plain": [
       "     Year                            Race or Hispanic Origin    Age Group  \\\n",
       "0    1960                                          All Races  10-14 Years   \n",
       "1    1960                                          All Races  15-17 Years   \n",
       "2    1960                                          All Races  15-19 Years   \n",
       "3    1960                                          All Races  18-19 Years   \n",
       "4    1961                                          All Races  10-14 Years   \n",
       "..    ...                                                ...          ...   \n",
       "891  2017  Non-Hispanic, Single Race Native Hawaiian or P...  18-19 years   \n",
       "892  2016  Non-Hispanic, Single Race Native Hawaiian or P...  10-14 years   \n",
       "893  2016  Non-Hispanic, Single Race Native Hawaiian or P...  15-19 years   \n",
       "894  2016  Non-Hispanic, Single Race Native Hawaiian or P...  15-17 years   \n",
       "895  2016  Non-Hispanic, Single Race Native Hawaiian or P...  18-19 years   \n",
       "\n",
       "     Birth Rate  \n",
       "0           0.8  \n",
       "1          43.9  \n",
       "2          89.1  \n",
       "3         166.7  \n",
       "4           0.9  \n",
       "..          ...  \n",
       "891        50.6  \n",
       "892         NaN  \n",
       "893        28.6  \n",
       "894        11.0  \n",
       "895        55.3  \n",
       "\n",
       "[896 rows x 4 columns]"
      ]
     },
     "execution_count": 4,
     "metadata": {},
     "output_type": "execute_result"
    }
   ],
   "source": [
    "df #shows 896 rows by 4 columns "
   ]
  },
  {
   "cell_type": "code",
   "execution_count": null,
   "metadata": {},
   "outputs": [],
   "source": []
  },
  {
   "cell_type": "markdown",
   "metadata": {},
   "source": [
    "---"
   ]
  },
  {
   "cell_type": "code",
   "execution_count": null,
   "metadata": {},
   "outputs": [],
   "source": []
  },
  {
   "cell_type": "code",
   "execution_count": null,
   "metadata": {},
   "outputs": [],
   "source": []
  },
  {
   "cell_type": "markdown",
   "metadata": {},
   "source": [
    "### 32.1 HTML Basics\n",
    "\n",
    "HTML is a form of which othere data format we've talked about:\n",
    "\n",
    "> A) Binary\n",
    ">\n",
    "> B) eXtensible Markup Language\n",
    "> \n",
    "> C) JavaScript Object Notation\n",
    ">\n",
    "> D) HL7 FHIR"
   ]
  },
  {
   "cell_type": "code",
   "execution_count": null,
   "metadata": {},
   "outputs": [],
   "source": [
    "answer321 = \"B\""
   ]
  },
  {
   "cell_type": "markdown",
   "metadata": {},
   "source": [
    "### 32.2 Things in HTML\n",
    "\n",
    "Which of the following is **not** a part of HTML:\n",
    "\n",
    "> A) element\n",
    "> \n",
    "> B) tag\n",
    ">\n",
    "> C) dictionary\n",
    ">\n",
    "> D) attribute"
   ]
  },
  {
   "cell_type": "code",
   "execution_count": null,
   "metadata": {},
   "outputs": [],
   "source": [
    "answer322 = \"C\""
   ]
  },
  {
   "cell_type": "markdown",
   "metadata": {},
   "source": [
    "### 32.3 Parsing HTML in Python\n",
    "\n",
    "Which of the following packages can be used to extract a table of data from HTML using Python (include all that apply in a list):\n",
    "\n",
    "> A) lxml\n",
    "> \n",
    "> B) BeautifulSoup\n",
    ">\n",
    "> C) Pandas \n",
    ">\n",
    "> D) fuzzywuzzy"
   ]
  },
  {
   "cell_type": "code",
   "execution_count": null,
   "metadata": {},
   "outputs": [],
   "source": [
    "answer323 = [\"A\",\"C\"]"
   ]
  }
 ],
 "metadata": {
  "kernelspec": {
   "display_name": "Python 3",
   "language": "python",
   "name": "python3"
  },
  "language_info": {
   "codemirror_mode": {
    "name": "ipython",
    "version": 3
   },
   "file_extension": ".py",
   "mimetype": "text/x-python",
   "name": "python",
   "nbconvert_exporter": "python",
   "pygments_lexer": "ipython3",
   "version": "3.6.7"
  }
 },
 "nbformat": 4,
 "nbformat_minor": 4
}
