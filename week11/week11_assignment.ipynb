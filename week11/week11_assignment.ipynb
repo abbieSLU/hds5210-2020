{
 "cells": [
  {
   "cell_type": "markdown",
   "metadata": {
    "nbgrader": {
     "grade": false,
     "grade_id": "intro",
     "locked": true,
     "schema_version": 1,
     "solution": false
    }
   },
   "source": [
    "# Week 11 Exercises\n",
    "\n",
    "_McKinney 7.2, 11.1_\n",
    "\n",
    "The general activity that we are doing in this week's exercise is to explore and try to understand a particular data set.  In this case, it is \n",
    "\n",
    "1. Read in the data file and filter down to only looking at MO hospitals\n",
    "2. Aggregate by Hospital: sum the Denominator, use min Start Date, use max End Date  (watch for rows with no Denominator value!)\n",
    "3. Calculate the average per day across that entire span\n",
    "4. Histogram\n",
    "5. Rank and find the hospital with the most"
   ]
  },
  {
   "cell_type": "markdown",
   "metadata": {
    "nbgrader": {
     "grade": false,
     "grade_id": "q1-intro",
     "locked": true,
     "schema_version": 1,
     "solution": false
    }
   },
   "source": [
    "## STEP 1 - Read and Filter\n",
    "\n",
    "<img src=\"images/step1.png\" alt=\"Read and Filter Output\" style=\"width: 500px; float: right; margin-left: 20px; border: 1px solid\">\n",
    "\n",
    "In the first step, read in the data file from the data directory `/data/complications_all.csv`.  It is a CSV file and Pandas should read it in just fine.  Explore the file so that you understand the columns and values.  At the end of this step, create a variable called `mo_hospitals` that contains a data frame from the `complications_all.csv` file, filtered down to only contain those hospitals from the state of Missouri (MO).\n",
    "\n",
    "A screenshot is included for reference.\n",
    "\n",
    "\n"
   ]
  },
  {
   "cell_type": "code",
   "execution_count": 557,
   "metadata": {
    "nbgrader": {
     "grade": false,
     "grade_id": "q1-solution",
     "locked": false,
     "schema_version": 1,
     "solution": true
    }
   },
   "outputs": [],
   "source": [
    "import pandas as pd\n",
    "import numpy as np \n",
    "# Put your code below and make sure that you reassign `mo_hospitals` \n",
    "# to have the contents described in the instructions.\n",
    "dataset=pd.read_csv('complications_all.csv', index_col=0, parse_dates=True)\n",
    "\n",
    "mo_hospitals = pd.DataFrame(dataset)\n",
    "\n",
    "total=len(mo_hospitals['State'].unique())\n",
    "\n",
    "mo_hospitals['State'].unique()=='MO'\n",
    "new=dataset['State'].value_counts()#to see the number for Missouri hospitals \n",
    "filter = mo_hospitals['State'] == 'MO'\n",
    "filter.value_counts()\n",
    "mo_hospitals= dataset[filter]"
   ]
  },
  {
   "cell_type": "code",
   "execution_count": 558,
   "metadata": {},
   "outputs": [
    {
     "data": {
      "text/plain": [
       "(2133, 17)"
      ]
     },
     "execution_count": 558,
     "metadata": {},
     "output_type": "execute_result"
    }
   ],
   "source": [
    "mo_hospitals.shape"
   ]
  },
  {
   "cell_type": "code",
   "execution_count": null,
   "metadata": {},
   "outputs": [],
   "source": []
  },
  {
   "cell_type": "code",
   "execution_count": 559,
   "metadata": {
    "nbgrader": {
     "grade": true,
     "grade_id": "q1-tests",
     "locked": true,
     "points": 2,
     "schema_version": 1,
     "solution": false
    }
   },
   "outputs": [],
   "source": [
    "# These assertions will help make sure that you're on the right track.\n",
    "assert(mo_hospitals['State'].unique() == ['MO'])\n",
    "assert(mo_hospitals.shape == (2133,17))# there are 18 columns however the file does not count the first column \n"
   ]
  },
  {
   "cell_type": "markdown",
   "metadata": {
    "nbgrader": {
     "grade": false,
     "grade_id": "q2-intro",
     "locked": true,
     "schema_version": 1,
     "solution": false
    }
   },
   "source": [
    "## STEP 2 - Transform and Aggregate\n",
    "\n",
    "<img src=\"images/step2.png\" alt=\"Transforma and Aggregate Output\" style=\"width: 500px; float: right; margin-left: 20px; border: 1px solid\">\n",
    "\n",
    "In the next step, we need to aggregate the results by hospital.  There are some key fields that we want to summarize, though:\n",
    "* We want to know the earliest date that each hospital was participating in any program\n",
    "* We want to know the latest date that each hospital stopped participating in any program\n",
    "* We want to know the total number of patients in the denominators of these programs\n",
    "\n",
    "Some things to note:\n",
    "* You will need to convert the `Start Date` and `End Date` to actual datetime fields\n",
    "* You will need to clean up and convert the `Denominator` field to just be numeric - the rule that you should use it to simply remove any records where the `Denominator` is `'Not Available'`\n",
    "\n",
    "The final result of this step should be a new data frame called `mo_summary` that contains one row for each hospital and contains the min start date, max end date, and total denominator.  Use the names `start_date`, `end_date`, and `number` for those columns in `mo_summary`.\n",
    "\n",
    "A screenshot is included for reference."
   ]
  },
  {
   "cell_type": "code",
   "execution_count": 560,
   "metadata": {
    "nbgrader": {
     "grade": false,
     "grade_id": "q2-solution",
     "locked": false,
     "schema_version": 1,
     "solution": true
    }
   },
   "outputs": [
    {
     "name": "stderr",
     "output_type": "stream",
     "text": [
      "/opt/tljh/user/lib/python3.6/site-packages/ipykernel_launcher.py:15: SettingWithCopyWarning: \n",
      "A value is trying to be set on a copy of a slice from a DataFrame.\n",
      "Try using .loc[row_indexer,col_indexer] = value instead\n",
      "\n",
      "See the caveats in the documentation: https://pandas.pydata.org/pandas-docs/stable/user_guide/indexing.html#returning-a-view-versus-a-copy\n",
      "  from ipykernel import kernelapp as app\n"
     ]
    }
   ],
   "source": [
    "%matplotlib inline\n",
    "import pandas as pd\n",
    "import numpy as np \n",
    "df2=pd.read_csv('complications_all.csv')\n",
    "header_names=['Hospital_Name', 'Address', 'City', 'State', 'Zip_Code','County_Name','Phone_Number','Measure_ID','Measure_Name','Compared_to_National','Denominator','Score','Lower_Estimate','Higher_Estimate','Footnote','Start','End']\n",
    "df2=pd.read_csv('complications_all.csv', header=None, skiprows=1, names=header_names)\n",
    "#mo_summary2 = pd.DataFrame(df)\n",
    "# This is just to show you the name to use for the variable you need to create for this step to pass.\n",
    "df2['Start']=pd.to_datetime(df2['Start'])\n",
    "df2['End']=pd.to_datetime(df2['End'])\n",
    "filter2=df2['State']=='MO'\n",
    "mo_summary2= df2[filter2]\n",
    "moddy2 = mo_summary2[mo_summary2['Denominator'] != 'Not Available']\n",
    "#modifiedDataset2=df2.fillna(0)\n",
    "moddy2['number'] = moddy2['Denominator'].astype(int)\n",
    "y=moddy2['number'].sum() #sum \n"
   ]
  },
  {
   "cell_type": "code",
   "execution_count": 561,
   "metadata": {},
   "outputs": [
    {
     "name": "stderr",
     "output_type": "stream",
     "text": [
      "/opt/tljh/user/lib/python3.6/site-packages/ipykernel_launcher.py:1: SettingWithCopyWarning: \n",
      "A value is trying to be set on a copy of a slice from a DataFrame.\n",
      "Try using .loc[row_indexer,col_indexer] = value instead\n",
      "\n",
      "See the caveats in the documentation: https://pandas.pydata.org/pandas-docs/stable/user_guide/indexing.html#returning-a-view-versus-a-copy\n",
      "  \"\"\"Entry point for launching an IPython kernel.\n"
     ]
    }
   ],
   "source": [
    "moddy2['days'] = (moddy2.End - moddy2.Start).dt.days"
   ]
  },
  {
   "cell_type": "code",
   "execution_count": 562,
   "metadata": {},
   "outputs": [
    {
     "data": {
      "text/html": [
       "<div>\n",
       "<style scoped>\n",
       "    .dataframe tbody tr th:only-of-type {\n",
       "        vertical-align: middle;\n",
       "    }\n",
       "\n",
       "    .dataframe tbody tr th {\n",
       "        vertical-align: top;\n",
       "    }\n",
       "\n",
       "    .dataframe thead th {\n",
       "        text-align: right;\n",
       "    }\n",
       "</style>\n",
       "<table border=\"1\" class=\"dataframe\">\n",
       "  <thead>\n",
       "    <tr style=\"text-align: right;\">\n",
       "      <th></th>\n",
       "      <th>Address</th>\n",
       "      <th>City</th>\n",
       "      <th>State</th>\n",
       "      <th>Zip_Code</th>\n",
       "      <th>County_Name</th>\n",
       "      <th>Phone_Number</th>\n",
       "      <th>Measure_ID</th>\n",
       "      <th>Measure_Name</th>\n",
       "      <th>Compared_to_National</th>\n",
       "      <th>Denominator</th>\n",
       "      <th>Score</th>\n",
       "      <th>Lower_Estimate</th>\n",
       "      <th>Higher_Estimate</th>\n",
       "      <th>Footnote</th>\n",
       "      <th>Start</th>\n",
       "      <th>End</th>\n",
       "      <th>number</th>\n",
       "      <th>days</th>\n",
       "    </tr>\n",
       "    <tr>\n",
       "      <th>Hospital_Name</th>\n",
       "      <th></th>\n",
       "      <th></th>\n",
       "      <th></th>\n",
       "      <th></th>\n",
       "      <th></th>\n",
       "      <th></th>\n",
       "      <th></th>\n",
       "      <th></th>\n",
       "      <th></th>\n",
       "      <th></th>\n",
       "      <th></th>\n",
       "      <th></th>\n",
       "      <th></th>\n",
       "      <th></th>\n",
       "      <th></th>\n",
       "      <th></th>\n",
       "      <th></th>\n",
       "      <th></th>\n",
       "    </tr>\n",
       "  </thead>\n",
       "  <tbody>\n",
       "    <tr>\n",
       "      <th>BARNES JEWISH HOSPITAL</th>\n",
       "      <td>18</td>\n",
       "      <td>18</td>\n",
       "      <td>18</td>\n",
       "      <td>18</td>\n",
       "      <td>18</td>\n",
       "      <td>18</td>\n",
       "      <td>18</td>\n",
       "      <td>18</td>\n",
       "      <td>18</td>\n",
       "      <td>18</td>\n",
       "      <td>18</td>\n",
       "      <td>18</td>\n",
       "      <td>18</td>\n",
       "      <td>0</td>\n",
       "      <td>18</td>\n",
       "      <td>18</td>\n",
       "      <td>18</td>\n",
       "      <td>18</td>\n",
       "    </tr>\n",
       "    <tr>\n",
       "      <th>BARNES-JEWISH ST PETERS HOSPITAL</th>\n",
       "      <td>17</td>\n",
       "      <td>17</td>\n",
       "      <td>17</td>\n",
       "      <td>17</td>\n",
       "      <td>17</td>\n",
       "      <td>17</td>\n",
       "      <td>17</td>\n",
       "      <td>17</td>\n",
       "      <td>17</td>\n",
       "      <td>17</td>\n",
       "      <td>17</td>\n",
       "      <td>17</td>\n",
       "      <td>17</td>\n",
       "      <td>0</td>\n",
       "      <td>17</td>\n",
       "      <td>17</td>\n",
       "      <td>17</td>\n",
       "      <td>17</td>\n",
       "    </tr>\n",
       "    <tr>\n",
       "      <th>BARNES-JEWISH WEST COUNTY HOSPITAL</th>\n",
       "      <td>13</td>\n",
       "      <td>13</td>\n",
       "      <td>13</td>\n",
       "      <td>13</td>\n",
       "      <td>13</td>\n",
       "      <td>13</td>\n",
       "      <td>13</td>\n",
       "      <td>13</td>\n",
       "      <td>13</td>\n",
       "      <td>13</td>\n",
       "      <td>13</td>\n",
       "      <td>13</td>\n",
       "      <td>13</td>\n",
       "      <td>0</td>\n",
       "      <td>13</td>\n",
       "      <td>13</td>\n",
       "      <td>13</td>\n",
       "      <td>13</td>\n",
       "    </tr>\n",
       "    <tr>\n",
       "      <th>BATES COUNTY MEMORIAL HOSPITAL</th>\n",
       "      <td>12</td>\n",
       "      <td>12</td>\n",
       "      <td>12</td>\n",
       "      <td>12</td>\n",
       "      <td>12</td>\n",
       "      <td>12</td>\n",
       "      <td>12</td>\n",
       "      <td>12</td>\n",
       "      <td>12</td>\n",
       "      <td>12</td>\n",
       "      <td>12</td>\n",
       "      <td>12</td>\n",
       "      <td>12</td>\n",
       "      <td>0</td>\n",
       "      <td>12</td>\n",
       "      <td>12</td>\n",
       "      <td>12</td>\n",
       "      <td>12</td>\n",
       "    </tr>\n",
       "    <tr>\n",
       "      <th>BELTON REGIONAL MEDICAL CENTER</th>\n",
       "      <td>14</td>\n",
       "      <td>14</td>\n",
       "      <td>14</td>\n",
       "      <td>14</td>\n",
       "      <td>14</td>\n",
       "      <td>14</td>\n",
       "      <td>14</td>\n",
       "      <td>14</td>\n",
       "      <td>14</td>\n",
       "      <td>14</td>\n",
       "      <td>14</td>\n",
       "      <td>14</td>\n",
       "      <td>14</td>\n",
       "      <td>0</td>\n",
       "      <td>14</td>\n",
       "      <td>14</td>\n",
       "      <td>14</td>\n",
       "      <td>14</td>\n",
       "    </tr>\n",
       "    <tr>\n",
       "      <th>...</th>\n",
       "      <td>...</td>\n",
       "      <td>...</td>\n",
       "      <td>...</td>\n",
       "      <td>...</td>\n",
       "      <td>...</td>\n",
       "      <td>...</td>\n",
       "      <td>...</td>\n",
       "      <td>...</td>\n",
       "      <td>...</td>\n",
       "      <td>...</td>\n",
       "      <td>...</td>\n",
       "      <td>...</td>\n",
       "      <td>...</td>\n",
       "      <td>...</td>\n",
       "      <td>...</td>\n",
       "      <td>...</td>\n",
       "      <td>...</td>\n",
       "      <td>...</td>\n",
       "    </tr>\n",
       "    <tr>\n",
       "      <th>TRUMAN MEDICAL CENTER LAKEWOOD</th>\n",
       "      <td>13</td>\n",
       "      <td>13</td>\n",
       "      <td>13</td>\n",
       "      <td>13</td>\n",
       "      <td>13</td>\n",
       "      <td>13</td>\n",
       "      <td>13</td>\n",
       "      <td>13</td>\n",
       "      <td>13</td>\n",
       "      <td>13</td>\n",
       "      <td>13</td>\n",
       "      <td>13</td>\n",
       "      <td>13</td>\n",
       "      <td>0</td>\n",
       "      <td>13</td>\n",
       "      <td>13</td>\n",
       "      <td>13</td>\n",
       "      <td>13</td>\n",
       "    </tr>\n",
       "    <tr>\n",
       "      <th>UNIVERSITY OF MISSOURI HEALTH CARE</th>\n",
       "      <td>18</td>\n",
       "      <td>18</td>\n",
       "      <td>18</td>\n",
       "      <td>18</td>\n",
       "      <td>18</td>\n",
       "      <td>18</td>\n",
       "      <td>18</td>\n",
       "      <td>18</td>\n",
       "      <td>18</td>\n",
       "      <td>18</td>\n",
       "      <td>18</td>\n",
       "      <td>18</td>\n",
       "      <td>18</td>\n",
       "      <td>0</td>\n",
       "      <td>18</td>\n",
       "      <td>18</td>\n",
       "      <td>18</td>\n",
       "      <td>18</td>\n",
       "    </tr>\n",
       "    <tr>\n",
       "      <th>WASHINGTON COUNTY MEMORIAL HOSPITAL</th>\n",
       "      <td>3</td>\n",
       "      <td>3</td>\n",
       "      <td>3</td>\n",
       "      <td>3</td>\n",
       "      <td>3</td>\n",
       "      <td>3</td>\n",
       "      <td>3</td>\n",
       "      <td>3</td>\n",
       "      <td>3</td>\n",
       "      <td>3</td>\n",
       "      <td>3</td>\n",
       "      <td>3</td>\n",
       "      <td>3</td>\n",
       "      <td>0</td>\n",
       "      <td>3</td>\n",
       "      <td>3</td>\n",
       "      <td>3</td>\n",
       "      <td>3</td>\n",
       "    </tr>\n",
       "    <tr>\n",
       "      <th>WESTERN MISSOURI MEDICAL CENTER</th>\n",
       "      <td>14</td>\n",
       "      <td>14</td>\n",
       "      <td>14</td>\n",
       "      <td>14</td>\n",
       "      <td>14</td>\n",
       "      <td>14</td>\n",
       "      <td>14</td>\n",
       "      <td>14</td>\n",
       "      <td>14</td>\n",
       "      <td>14</td>\n",
       "      <td>14</td>\n",
       "      <td>14</td>\n",
       "      <td>14</td>\n",
       "      <td>0</td>\n",
       "      <td>14</td>\n",
       "      <td>14</td>\n",
       "      <td>14</td>\n",
       "      <td>14</td>\n",
       "    </tr>\n",
       "    <tr>\n",
       "      <th>WRIGHT MEMORIAL HOSPITAL</th>\n",
       "      <td>3</td>\n",
       "      <td>3</td>\n",
       "      <td>3</td>\n",
       "      <td>3</td>\n",
       "      <td>3</td>\n",
       "      <td>3</td>\n",
       "      <td>3</td>\n",
       "      <td>3</td>\n",
       "      <td>3</td>\n",
       "      <td>3</td>\n",
       "      <td>3</td>\n",
       "      <td>3</td>\n",
       "      <td>3</td>\n",
       "      <td>0</td>\n",
       "      <td>3</td>\n",
       "      <td>3</td>\n",
       "      <td>3</td>\n",
       "      <td>3</td>\n",
       "    </tr>\n",
       "  </tbody>\n",
       "</table>\n",
       "<p>108 rows × 18 columns</p>\n",
       "</div>"
      ],
      "text/plain": [
       "                                     Address  City  State  Zip_Code  \\\n",
       "Hospital_Name                                                         \n",
       "BARNES JEWISH HOSPITAL                    18    18     18        18   \n",
       "BARNES-JEWISH ST PETERS HOSPITAL          17    17     17        17   \n",
       "BARNES-JEWISH WEST COUNTY HOSPITAL        13    13     13        13   \n",
       "BATES COUNTY MEMORIAL HOSPITAL            12    12     12        12   \n",
       "BELTON REGIONAL MEDICAL CENTER            14    14     14        14   \n",
       "...                                      ...   ...    ...       ...   \n",
       "TRUMAN MEDICAL CENTER LAKEWOOD            13    13     13        13   \n",
       "UNIVERSITY OF MISSOURI HEALTH CARE        18    18     18        18   \n",
       "WASHINGTON COUNTY MEMORIAL HOSPITAL        3     3      3         3   \n",
       "WESTERN MISSOURI MEDICAL CENTER           14    14     14        14   \n",
       "WRIGHT MEMORIAL HOSPITAL                   3     3      3         3   \n",
       "\n",
       "                                     County_Name  Phone_Number  Measure_ID  \\\n",
       "Hospital_Name                                                                \n",
       "BARNES JEWISH HOSPITAL                        18            18          18   \n",
       "BARNES-JEWISH ST PETERS HOSPITAL              17            17          17   \n",
       "BARNES-JEWISH WEST COUNTY HOSPITAL            13            13          13   \n",
       "BATES COUNTY MEMORIAL HOSPITAL                12            12          12   \n",
       "BELTON REGIONAL MEDICAL CENTER                14            14          14   \n",
       "...                                          ...           ...         ...   \n",
       "TRUMAN MEDICAL CENTER LAKEWOOD                13            13          13   \n",
       "UNIVERSITY OF MISSOURI HEALTH CARE            18            18          18   \n",
       "WASHINGTON COUNTY MEMORIAL HOSPITAL            3             3           3   \n",
       "WESTERN MISSOURI MEDICAL CENTER               14            14          14   \n",
       "WRIGHT MEMORIAL HOSPITAL                       3             3           3   \n",
       "\n",
       "                                     Measure_Name  Compared_to_National  \\\n",
       "Hospital_Name                                                             \n",
       "BARNES JEWISH HOSPITAL                         18                    18   \n",
       "BARNES-JEWISH ST PETERS HOSPITAL               17                    17   \n",
       "BARNES-JEWISH WEST COUNTY HOSPITAL             13                    13   \n",
       "BATES COUNTY MEMORIAL HOSPITAL                 12                    12   \n",
       "BELTON REGIONAL MEDICAL CENTER                 14                    14   \n",
       "...                                           ...                   ...   \n",
       "TRUMAN MEDICAL CENTER LAKEWOOD                 13                    13   \n",
       "UNIVERSITY OF MISSOURI HEALTH CARE             18                    18   \n",
       "WASHINGTON COUNTY MEMORIAL HOSPITAL             3                     3   \n",
       "WESTERN MISSOURI MEDICAL CENTER                14                    14   \n",
       "WRIGHT MEMORIAL HOSPITAL                        3                     3   \n",
       "\n",
       "                                     Denominator  Score  Lower_Estimate  \\\n",
       "Hospital_Name                                                             \n",
       "BARNES JEWISH HOSPITAL                        18     18              18   \n",
       "BARNES-JEWISH ST PETERS HOSPITAL              17     17              17   \n",
       "BARNES-JEWISH WEST COUNTY HOSPITAL            13     13              13   \n",
       "BATES COUNTY MEMORIAL HOSPITAL                12     12              12   \n",
       "BELTON REGIONAL MEDICAL CENTER                14     14              14   \n",
       "...                                          ...    ...             ...   \n",
       "TRUMAN MEDICAL CENTER LAKEWOOD                13     13              13   \n",
       "UNIVERSITY OF MISSOURI HEALTH CARE            18     18              18   \n",
       "WASHINGTON COUNTY MEMORIAL HOSPITAL            3      3               3   \n",
       "WESTERN MISSOURI MEDICAL CENTER               14     14              14   \n",
       "WRIGHT MEMORIAL HOSPITAL                       3      3               3   \n",
       "\n",
       "                                     Higher_Estimate  Footnote  Start  End  \\\n",
       "Hospital_Name                                                                \n",
       "BARNES JEWISH HOSPITAL                            18         0     18   18   \n",
       "BARNES-JEWISH ST PETERS HOSPITAL                  17         0     17   17   \n",
       "BARNES-JEWISH WEST COUNTY HOSPITAL                13         0     13   13   \n",
       "BATES COUNTY MEMORIAL HOSPITAL                    12         0     12   12   \n",
       "BELTON REGIONAL MEDICAL CENTER                    14         0     14   14   \n",
       "...                                              ...       ...    ...  ...   \n",
       "TRUMAN MEDICAL CENTER LAKEWOOD                    13         0     13   13   \n",
       "UNIVERSITY OF MISSOURI HEALTH CARE                18         0     18   18   \n",
       "WASHINGTON COUNTY MEMORIAL HOSPITAL                3         0      3    3   \n",
       "WESTERN MISSOURI MEDICAL CENTER                   14         0     14   14   \n",
       "WRIGHT MEMORIAL HOSPITAL                           3         0      3    3   \n",
       "\n",
       "                                     number  days  \n",
       "Hospital_Name                                      \n",
       "BARNES JEWISH HOSPITAL                   18    18  \n",
       "BARNES-JEWISH ST PETERS HOSPITAL         17    17  \n",
       "BARNES-JEWISH WEST COUNTY HOSPITAL       13    13  \n",
       "BATES COUNTY MEMORIAL HOSPITAL           12    12  \n",
       "BELTON REGIONAL MEDICAL CENTER           14    14  \n",
       "...                                     ...   ...  \n",
       "TRUMAN MEDICAL CENTER LAKEWOOD           13    13  \n",
       "UNIVERSITY OF MISSOURI HEALTH CARE       18    18  \n",
       "WASHINGTON COUNTY MEMORIAL HOSPITAL       3     3  \n",
       "WESTERN MISSOURI MEDICAL CENTER          14    14  \n",
       "WRIGHT MEMORIAL HOSPITAL                  3     3  \n",
       "\n",
       "[108 rows x 18 columns]"
      ]
     },
     "execution_count": 562,
     "metadata": {},
     "output_type": "execute_result"
    }
   ],
   "source": [
    "\n",
    "data_by_hospital = moddy2.groupby('Hospital_Name')\n",
    "data_by_hospital.count()"
   ]
  },
  {
   "cell_type": "code",
   "execution_count": null,
   "metadata": {},
   "outputs": [],
   "source": []
  },
  {
   "cell_type": "code",
   "execution_count": 563,
   "metadata": {},
   "outputs": [],
   "source": [
    "moddy3= data_by_hospital.aggregate({\n",
    "    'Start': ['min','max'], \n",
    "    'End': ['min','max'], \n",
    "    'number': ['min','max','sum']}).reset_index()\n"
   ]
  },
  {
   "cell_type": "code",
   "execution_count": 564,
   "metadata": {},
   "outputs": [
    {
     "data": {
      "text/plain": [
       "(108, 8)"
      ]
     },
     "execution_count": 564,
     "metadata": {},
     "output_type": "execute_result"
    }
   ],
   "source": [
    "\n",
    "\n",
    "moddy3.shape"
   ]
  },
  {
   "cell_type": "code",
   "execution_count": 565,
   "metadata": {},
   "outputs": [],
   "source": [
    "moddy4=data_by_hospital.aggregate({'Start': 'min','End':'max','number':'sum'}).reset_index()"
   ]
  },
  {
   "cell_type": "code",
   "execution_count": 566,
   "metadata": {},
   "outputs": [
    {
     "data": {
      "text/plain": [
       "(108, 4)"
      ]
     },
     "execution_count": 566,
     "metadata": {},
     "output_type": "execute_result"
    }
   ],
   "source": [
    "moddy4.shape"
   ]
  },
  {
   "cell_type": "code",
   "execution_count": 567,
   "metadata": {},
   "outputs": [
    {
     "data": {
      "text/plain": [
       "<bound method Series.sum of 0      131313\n",
       "1       15668\n",
       "2        9622\n",
       "3        3117\n",
       "4        9270\n",
       "        ...  \n",
       "103      4297\n",
       "104     56493\n",
       "105       220\n",
       "106      7254\n",
       "107       198\n",
       "Name: number, Length: 108, dtype: int64>"
      ]
     },
     "execution_count": 567,
     "metadata": {},
     "output_type": "execute_result"
    }
   ],
   "source": [
    "moddy4['number'].sum"
   ]
  },
  {
   "cell_type": "code",
   "execution_count": 568,
   "metadata": {},
   "outputs": [],
   "source": [
    "assert(moddy4.shape == (108,4))####in my case I have 4 columns hospital name, start date, end date and number of patients \n"
   ]
  },
  {
   "cell_type": "code",
   "execution_count": 569,
   "metadata": {
    "nbgrader": {
     "grade": true,
     "grade_id": "q2-test",
     "locked": true,
     "points": 5,
     "schema_version": 1,
     "solution": false
    }
   },
   "outputs": [],
   "source": [
    "assert(mo_summary['number'].sum() == 1766908)\n",
    "assert(mo_summary['start_date'].min() == pd.Timestamp(2015,4,1))\n",
    "assert(mo_summary['end_date'].max() == pd.Timestamp(2018,6,30))\n",
    "\n",
    "#assert(mo_summary.loc['BARNES JEWISH HOSPITAL'].number == 131313)\n",
    "#assert(mo_summary.loc['BOONE HOSPITAL CENTER'].number == 63099)"
   ]
  },
  {
   "cell_type": "code",
   "execution_count": 570,
   "metadata": {},
   "outputs": [],
   "source": [
    "#for the last two assertions I had to use multiple conditions to find the number corresponding to the hospital which correspond to 131313 and 63099 respectively. "
   ]
  },
  {
   "cell_type": "code",
   "execution_count": 571,
   "metadata": {},
   "outputs": [
    {
     "data": {
      "text/plain": [
       "0    True\n",
       "Name: number, dtype: bool"
      ]
     },
     "execution_count": 571,
     "metadata": {},
     "output_type": "execute_result"
    }
   ],
   "source": [
    "moddy4.loc[(moddy4.Hospital_Name == 'BARNES JEWISH HOSPITAL')].number==131313 "
   ]
  },
  {
   "cell_type": "code",
   "execution_count": 572,
   "metadata": {},
   "outputs": [
    {
     "data": {
      "text/plain": [
       "5    True\n",
       "Name: number, dtype: bool"
      ]
     },
     "execution_count": 572,
     "metadata": {},
     "output_type": "execute_result"
    }
   ],
   "source": [
    "moddy4.loc[(moddy4.Hospital_Name == 'BOONE HOSPITAL CENTER')].number==63099"
   ]
  },
  {
   "cell_type": "markdown",
   "metadata": {
    "nbgrader": {
     "grade": false,
     "grade_id": "q3-intro",
     "locked": true,
     "schema_version": 1,
     "solution": false
    }
   },
   "source": [
    "## STEP 3: Average Per Day\n",
    "\n",
    "<img src=\"images/step3.png\" alt=\"Average per Day\" style=\"width: 500px; margin-left: 20px; float: right; border: 1px solid\">\n",
    "\n",
    "\n",
    "The next step, now that we have a start date, end date, and total patients for each day is to calculate how many patients on average per day this represents.  You will need to calculate the number of days between the start date and end date, and then the average as total patients divided by number of days.\n",
    "\n",
    "Your final output should still be the variable `mo_summary`, and it will need to have two additional columns: `days` and `per_day`.\n",
    "\n",
    "A screenshot is included for reference.\n"
   ]
  },
  {
   "cell_type": "code",
   "execution_count": 573,
   "metadata": {
    "nbgrader": {
     "grade": false,
     "grade_id": "q3-solution",
     "locked": false,
     "schema_version": 1,
     "solution": true
    }
   },
   "outputs": [
    {
     "name": "stderr",
     "output_type": "stream",
     "text": [
      "/opt/tljh/user/lib/python3.6/site-packages/ipykernel_launcher.py:18: SettingWithCopyWarning: \n",
      "A value is trying to be set on a copy of a slice from a DataFrame.\n",
      "Try using .loc[row_indexer,col_indexer] = value instead\n",
      "\n",
      "See the caveats in the documentation: https://pandas.pydata.org/pandas-docs/stable/user_guide/indexing.html#returning-a-view-versus-a-copy\n"
     ]
    }
   ],
   "source": [
    "# Put your code below and make sure that you add new columns to `mo_summary` \n",
    "# to have the contents described in the instructions.\n",
    "\n",
    "%matplotlib inline\n",
    "import pandas as pd\n",
    "import numpy as np \n",
    "df2=pd.read_csv('complications_all.csv')\n",
    "header_names=['Hospital_Name', 'Address', 'City', 'State', 'Zip_Code','County_Name','Phone_Number','Measure_ID','Measure_Name','Compared_to_National','Denominator','Score','Lower_Estimate','Higher_Estimate','Footnote','Start','End']\n",
    "df2=pd.read_csv('complications_all.csv', header=None, skiprows=1, names=header_names)\n",
    "#mo_summary2 = pd.DataFrame(df)\n",
    "# This is just to show you the name to use for the variable you need to create for this step to pass.\n",
    "df2['Start']=pd.to_datetime(df2['Start'])\n",
    "df2['End']=pd.to_datetime(df2['End'])\n",
    "filter2=df2['State']=='MO'\n",
    "mo_summary2= df2[filter2]\n",
    "moddy2 = mo_summary2[mo_summary2['Denominator'] != 'Not Available']\n",
    "#modifiedDataset2=df2.fillna(0)\n",
    "moddy2['number'] = moddy2['Denominator'].astype(int)\n",
    "y=moddy2['number'].sum() #sum \n",
    "\n",
    "moddy5 = data_by_hospital.aggregate({\n",
    "    'Start': ['min','max'], \n",
    "    'End': ['min','max'], \n",
    "    'number': ['min','max','sum']}).reset_index()\n",
    "\n",
    "moddy5.columns = ['Hospital','start min','start max','end min','end max','count min','count max','sum']\n",
    "moddy5['days'] = (moddy5['end max'] - moddy5['start min']).dt.days\n",
    "moddy5['per_day'] = moddy5['sum'] / moddy5['days']"
   ]
  },
  {
   "cell_type": "code",
   "execution_count": null,
   "metadata": {},
   "outputs": [],
   "source": []
  },
  {
   "cell_type": "code",
   "execution_count": 574,
   "metadata": {},
   "outputs": [],
   "source": [
    "#I changed the variable name to moddy5 because there was an error that kept showing up I am not sure if it was being mixed up with the mo_summary above \n"
   ]
  },
  {
   "cell_type": "code",
   "execution_count": 575,
   "metadata": {
    "nbgrader": {
     "grade": true,
     "grade_id": "q3-tests",
     "locked": true,
     "points": 5,
     "schema_version": 1,
     "solution": false
    }
   },
   "outputs": [],
   "source": [
    "assert(moddy5['days'].sum() == 123718)\n",
    "assert(moddy5['per_day'].mean() == 13.841279932122697)\n",
    "assert(moddy5['per_day'].min() == 0.023744292237442923)\n",
    "assert(moddy5['days'].min() == 729)\n",
    "assert(moddy5['days'].max() == 1186)"
   ]
  },
  {
   "cell_type": "markdown",
   "metadata": {
    "nbgrader": {
     "grade": false,
     "grade_id": "q4-histogram",
     "locked": true,
     "schema_version": 1,
     "solution": false
    }
   },
   "source": [
    "## STEP 4: Histogram\n",
    "\n",
    "<img src=\"images/step4.png\" alt=\"Histogram\" style=\"width: 300px; float: right; margin-left: 20px; border: 1px solid\">\n",
    "\n",
    "For this step, I want you to plot a histogram to give yourself a better understanding of this new metric we've calculated: how many patients per day have a potential complication.  Looking at the shape and distribution of the data might give us some indication of the hospital volume and quality.  (Don't take this too seriously, though.  We're cutting some important corners.)\n",
    "\n",
    "A screenshot is included for reference."
   ]
  },
  {
   "cell_type": "code",
   "execution_count": 576,
   "metadata": {
    "nbgrader": {
     "grade": true,
     "grade_id": "q4-solution",
     "locked": false,
     "points": 3,
     "schema_version": 1,
     "solution": true
    }
   },
   "outputs": [
    {
     "data": {
      "text/plain": [
       "<matplotlib.axes._subplots.AxesSubplot at 0x7f3664e24240>"
      ]
     },
     "execution_count": 576,
     "metadata": {},
     "output_type": "execute_result"
    },
    {
     "data": {
      "image/png": "[encoded data removed]",
      "text/plain": [
       "<Figure size 432x288 with 1 Axes>"
      ]
     },
     "metadata": {
      "needs_background": "light"
     },
     "output_type": "display_data"
    }
   ],
   "source": [
    "%matplotlib inline\n",
    "# Use the built-in Pandas histogram plotting capability to plot a histogram of the `per_day` values.\n",
    "\n",
    "moddy5['rank'] = moddy5['per_day'].rank()\n",
    "moddy5.sort_values('rank', ascending=False)\n",
    "moddy5['per_day'].hist()"
   ]
  },
  {
   "cell_type": "markdown",
   "metadata": {
    "nbgrader": {
     "grade": false,
     "grade_id": "q5-intro",
     "locked": true,
     "schema_version": 1,
     "solution": false
    }
   },
   "source": [
    "## STEP 5: Rank Order\n",
    "\n",
    "Now that we see what the distribution looks like, you can tell that most of the `per_day` values are below 20.  There are, however, some outliers up around 100!  Who are those?  Let's rank the data set by the `per_day` value in descending order, examine them, and produce a list of the \"top 3\" based on this criteria.  That is, who are the top three hospitals based on having the highest `per_day` values.\n",
    "\n",
    "At the end of this step, put those hospital names in a list called `top_hospitals` and that will be used for testing.  They should be in the order they appear `[#1, #2, #3]`.  That is, if the top hospitals were Mercy (99.3), BJC (97.2), and MoBap (90.1), then you would have `top_hospitals = ['Mercy','BJC','MoBap']`"
   ]
  },
  {
   "cell_type": "code",
   "execution_count": 577,
   "metadata": {
    "nbgrader": {
     "grade": false,
     "grade_id": "q5-solution",
     "locked": false,
     "schema_version": 1,
     "solution": true
    }
   },
   "outputs": [],
   "source": [
    "# Put your code below and make sure that your final result ends up in the variable `top_hospitals`\n",
    "# as described in the instructions above.\n",
    "low=moddy5.sort_values('rank', ascending=False)\n",
    "\n",
    "new_low=low['Hospital']\n",
    "low[0:3]\n",
    "new_low2=list(new_low)\n",
    "\n",
    "top_hospitals = new_low2[0:3]\n",
    "\n",
    "\n"
   ]
  },
  {
   "cell_type": "code",
   "execution_count": 578,
   "metadata": {},
   "outputs": [
    {
     "data": {
      "text/plain": [
       "['BARNES JEWISH HOSPITAL', 'MERCY HOSPITAL SPRINGFIELD', 'COX MEDICAL CENTERS']"
      ]
     },
     "execution_count": 578,
     "metadata": {},
     "output_type": "execute_result"
    }
   ],
   "source": [
    "top_hospitals"
   ]
  },
  {
   "cell_type": "code",
   "execution_count": 579,
   "metadata": {},
   "outputs": [
    {
     "data": {
      "text/plain": [
       "list"
      ]
     },
     "execution_count": 579,
     "metadata": {},
     "output_type": "execute_result"
    }
   ],
   "source": [
    "type(top_hospitals)"
   ]
  },
  {
   "cell_type": "code",
   "execution_count": 580,
   "metadata": {
    "nbgrader": {
     "grade": true,
     "grade_id": "q5-tests",
     "locked": true,
     "points": 5,
     "schema_version": 1,
     "solution": false
    }
   },
   "outputs": [],
   "source": [
    "assert(type(top_hospitals) == list)\n",
    "### BEGIN HIDDEN TESTS\n",
    "assert(top_hospitals == ['BARNES JEWISH HOSPITAL', 'MERCY HOSPITAL SPRINGFIELD', 'COX MEDICAL CENTERS'])\n",
    "### END HIDDEN TESTS"
   ]
  },
  {
   "cell_type": "code",
   "execution_count": null,
   "metadata": {},
   "outputs": [],
   "source": []
  }
 ],
 "metadata": {
  "celltoolbar": "Create Assignment",
  "kernelspec": {
   "display_name": "Python 3",
   "language": "python",
   "name": "python3"
  },
  "language_info": {
   "codemirror_mode": {
    "name": "ipython",
    "version": 3
   },
   "file_extension": ".py",
   "mimetype": "text/x-python",
   "name": "python",
   "nbconvert_exporter": "python",
   "pygments_lexer": "ipython3",
   "version": "3.6.7"
  }
 },
 "nbformat": 4,
 "nbformat_minor": 2
}
