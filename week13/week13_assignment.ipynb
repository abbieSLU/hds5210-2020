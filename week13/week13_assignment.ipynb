{
 "cells": [
  {
   "cell_type": "markdown",
   "metadata": {
    "nbgrader": {
     "grade": false,
     "grade_id": "cell-fc1c39d0d6f8b82a",
     "locked": true,
     "schema_version": 1,
     "solution": false
    }
   },
   "source": [
    "# Descriptive Stats\n",
    "\n",
    "For the questions below, we're going to refer exclusively to an HHCAPS survey data set that is available in `/data/hhcaps.csv`.  Use whatever commands you want to calculate the information required to get to the answer.\n",
    "\n",
    "\n",
    "Put your solution as the last line right before the test cell, using the form shown below for computing the number of rows in a dataframe.\n",
    "\n",
    "```\n",
    "answer = my_df.shape[0]\n",
    "```\n",
    "\n",
    "The assertions will often give you what the final answer should be, but you won't receive any points unless you compute the answer using code.  For instance, if you just typed `answer = 132` for the numer of rows instead of `answer = my_df.shape[0]`, you would not receive credit.\n"
   ]
  },
  {
   "cell_type": "code",
   "execution_count": null,
   "metadata": {
    "nbgrader": {
     "grade": false,
     "grade_id": "intro",
     "locked": true,
     "schema_version": 1,
     "solution": false
    }
   },
   "outputs": [],
   "source": [
    "%matplotlib inline\n",
    "import pandas as pd\n",
    "\n",
    "hhcaps = pd.read_csv('/data/hhcaps.csv')"
   ]
  },
  {
   "cell_type": "markdown",
   "metadata": {
    "nbgrader": {
     "grade": false,
     "grade_id": "q01-intro",
     "locked": true,
     "schema_version": 1,
     "solution": false
    }
   },
   "source": [
    "## #01 - \n",
    "\n",
    "How many columns does this file contain?"
   ]
  },
  {
   "cell_type": "code",
   "execution_count": null,
   "metadata": {},
   "outputs": [],
   "source": [
    "hhcaps.shape"
   ]
  },
  {
   "cell_type": "code",
   "execution_count": null,
   "metadata": {
    "nbgrader": {
     "grade": false,
     "grade_id": "q01-solution",
     "locked": false,
     "schema_version": 1,
     "solution": true
    }
   },
   "outputs": [],
   "source": [
    "answer = 0\n",
    "## Solution goes here###\n",
    "\n",
    "answer = hhcaps.shape[1]"
   ]
  },
  {
   "cell_type": "code",
   "execution_count": null,
   "metadata": {
    "nbgrader": {
     "grade": true,
     "grade_id": "q01-test",
     "locked": true,
     "points": 2,
     "schema_version": 1,
     "solution": false
    }
   },
   "outputs": [],
   "source": [
    "assert(type(answer) == int)\n",
    "assert(answer == 39)"
   ]
  },
  {
   "cell_type": "code",
   "execution_count": null,
   "metadata": {},
   "outputs": [],
   "source": []
  },
  {
   "cell_type": "markdown",
   "metadata": {
    "nbgrader": {
     "grade": false,
     "grade_id": "q02-intro",
     "locked": true,
     "schema_version": 1,
     "solution": false
    }
   },
   "source": [
    "## #02 - \n",
    "\n",
    "How many different values for State are there in this file?"
   ]
  },
  {
   "cell_type": "code",
   "execution_count": null,
   "metadata": {
    "nbgrader": {
     "grade": false,
     "grade_id": "q02-solution",
     "locked": false,
     "schema_version": 1,
     "solution": true
    }
   },
   "outputs": [],
   "source": [
    "answer = 0\n",
    "\n",
    "## Solution goes here###\n",
    "states= hhcaps.groupby('State').count().reset_index() #states is for dataframe in states.groupby\n",
    "answer = states.shape[0]"
   ]
  },
  {
   "cell_type": "code",
   "execution_count": null,
   "metadata": {
    "nbgrader": {
     "grade": true,
     "grade_id": "q02-test",
     "locked": true,
     "points": 2,
     "schema_version": 1,
     "solution": false
    }
   },
   "outputs": [],
   "source": [
    "assert(type(answer) == int)\n",
    "assert(answer == 55)"
   ]
  },
  {
   "cell_type": "code",
   "execution_count": null,
   "metadata": {},
   "outputs": [],
   "source": []
  },
  {
   "cell_type": "markdown",
   "metadata": {
    "nbgrader": {
     "grade": false,
     "grade_id": "q03-intro",
     "locked": true,
     "schema_version": 1,
     "solution": false
    }
   },
   "source": [
    "## #03 - \n",
    "\n",
    "Which of those State values has the highest frequency of occurence?"
   ]
  },
  {
   "cell_type": "code",
   "execution_count": null,
   "metadata": {
    "nbgrader": {
     "grade": false,
     "grade_id": "q03-solution",
     "locked": false,
     "schema_version": 1,
     "solution": true
    }
   },
   "outputs": [],
   "source": [
    "answer = ''\n",
    "## Solution goes here###\n",
    "%matplotlib inline\n",
    "import pandas as pd\n",
    "#variables my_df, x and y correspond to the breakdown \n",
    "my_df = pd.read_csv('/data/hhcaps.csv')\n",
    "x= my_df.groupby('State').count().reset_index() \n",
    "y=my_df['State'].value_counts().reset_index()\n",
    "\n",
    "result=y[y['index'].str.contains('TX')] #searches for the string \n",
    "answer=result.iloc[0,0]"
   ]
  },
  {
   "cell_type": "code",
   "execution_count": null,
   "metadata": {},
   "outputs": [],
   "source": []
  },
  {
   "cell_type": "code",
   "execution_count": null,
   "metadata": {},
   "outputs": [],
   "source": []
  },
  {
   "cell_type": "code",
   "execution_count": null,
   "metadata": {
    "nbgrader": {
     "grade": true,
     "grade_id": "q03-test",
     "locked": true,
     "points": 2,
     "schema_version": 1,
     "solution": false
    }
   },
   "outputs": [],
   "source": [
    "assert(type(answer) == str)\n",
    "assert(answer == 'TX')"
   ]
  },
  {
   "cell_type": "code",
   "execution_count": null,
   "metadata": {},
   "outputs": [],
   "source": []
  },
  {
   "cell_type": "markdown",
   "metadata": {
    "nbgrader": {
     "grade": false,
     "grade_id": "q04-intro",
     "locked": true,
     "schema_version": 1,
     "solution": false
    }
   },
   "source": [
    "## #04 - \n",
    "\n",
    "Which of those State values has the best average performance on the `Star Rating for health team communicated well with them` score?"
   ]
  },
  {
   "cell_type": "code",
   "execution_count": null,
   "metadata": {
    "nbgrader": {
     "grade": false,
     "grade_id": "q04-solution",
     "locked": false,
     "schema_version": 1,
     "solution": true
    }
   },
   "outputs": [],
   "source": [
    "answer = ''\n",
    "\n",
    "## Solution goes here###\n",
    "%matplotlib inline\n",
    "import pandas as pd\n",
    "\n",
    "hhcaps = pd.read_csv('/data/hhcaps.csv',delimiter=',')\n",
    "grouped=hhcaps['Star Rating for health team communicated well with them'].groupby(hhcaps['State'])\n",
    "states_values=grouped.mean().sort_values(ascending=False)\n",
    "\n",
    "#in states_values the max value will show you ME has the best average performance\n",
    "\n",
    "answer='ME'\n",
    "if states_values.max()==4.65:\n",
    "    print (answer)\n",
    "\n",
    "#the if statement shows if the state corresponds to the value \n",
    "\n"
   ]
  },
  {
   "cell_type": "code",
   "execution_count": null,
   "metadata": {
    "nbgrader": {
     "grade": true,
     "grade_id": "q04-test",
     "locked": true,
     "points": 2,
     "schema_version": 1,
     "solution": false
    }
   },
   "outputs": [],
   "source": [
    "assert(type(answer) == str)\n",
    "assert(answer == 'ME')"
   ]
  },
  {
   "cell_type": "code",
   "execution_count": null,
   "metadata": {},
   "outputs": [],
   "source": []
  },
  {
   "cell_type": "markdown",
   "metadata": {
    "nbgrader": {
     "grade": false,
     "grade_id": "q05-intro",
     "locked": true,
     "schema_version": 1,
     "solution": false
    }
   },
   "source": [
    "## #05 - \n",
    "\n",
    "What was the average score on `Star Rating for how patients rated overall care from agency` for providers listed as having a `Type of Ownership` of `Hospital Based Program`"
   ]
  },
  {
   "cell_type": "code",
   "execution_count": null,
   "metadata": {
    "nbgrader": {
     "grade": false,
     "grade_id": "q05-solution",
     "locked": false,
     "schema_version": 1,
     "solution": true
    }
   },
   "outputs": [],
   "source": [
    "answer = 0.0\n",
    "\n",
    "## Solution goes here###\n",
    "%matplotlib inline\n",
    "import pandas as pd\n",
    "\n",
    "hhcaps = pd.read_csv('/data/hhcaps.csv',delimiter=',')\n",
    "grouped=hhcaps['Star Rating for how patients rated overall care from agency'].groupby(hhcaps['Type of Ownership'])\n",
    "rating=grouped.mean() #accounts for rating \n",
    "rating2=rating.reset_index()\n",
    "answer=rating2.iloc[1,1]"
   ]
  },
  {
   "cell_type": "code",
   "execution_count": null,
   "metadata": {},
   "outputs": [],
   "source": [
    "answer"
   ]
  },
  {
   "cell_type": "code",
   "execution_count": null,
   "metadata": {
    "nbgrader": {
     "grade": true,
     "grade_id": "q05-test",
     "locked": true,
     "points": 2,
     "schema_version": 1,
     "solution": false
    }
   },
   "outputs": [],
   "source": [
    "import numpy\n",
    "assert(type(answer) == float or type(answer) == numpy.float64)\n",
    "assert(round(answer,5) == round(3.6925207756232687,5))\n"
   ]
  },
  {
   "cell_type": "code",
   "execution_count": null,
   "metadata": {},
   "outputs": [],
   "source": []
  },
  {
   "cell_type": "markdown",
   "metadata": {
    "nbgrader": {
     "grade": false,
     "grade_id": "q06-intro",
     "locked": true,
     "schema_version": 1,
     "solution": false
    }
   },
   "source": [
    "## #06 - \n",
    "\n",
    "There is one column in the file that has the same value on every row.  What is the name of that column?"
   ]
  },
  {
   "cell_type": "code",
   "execution_count": null,
   "metadata": {
    "nbgrader": {
     "grade": false,
     "grade_id": "q06-solution",
     "locked": false,
     "schema_version": 1,
     "solution": true
    }
   },
   "outputs": [],
   "source": [
    "answer = ''\n",
    "\n",
    "## Solution goes here####\n",
    "\n",
    "%matplotlib inline\n",
    "import pandas as pd\n",
    "\n",
    "hhcaps = pd.read_csv('/data/hhcaps.csv',delimiter=',')\n",
    "\n",
    "repeat= [x for x in hhcaps.columns if len (hhcaps[x].unique())==1] #evaluates the columns \n",
    "s=repeat\n",
    "answer=' '.join([str(elem) for elem in s]) #converts to string \n"
   ]
  },
  {
   "cell_type": "code",
   "execution_count": null,
   "metadata": {
    "nbgrader": {
     "grade": true,
     "grade_id": "q06-test",
     "locked": true,
     "points": 2,
     "schema_version": 1,
     "solution": false
    }
   },
   "outputs": [],
   "source": [
    "assert(type(answer) == str)\n",
    "assert(answer.lower() == 'Offers Nursing Care Services'.lower())\n"
   ]
  },
  {
   "cell_type": "code",
   "execution_count": null,
   "metadata": {},
   "outputs": [],
   "source": []
  },
  {
   "cell_type": "markdown",
   "metadata": {
    "nbgrader": {
     "grade": false,
     "grade_id": "q07-intro",
     "locked": true,
     "schema_version": 1,
     "solution": false
    }
   },
   "source": [
    "## #07 - \n",
    "\n",
    "There are six (6) columns in the file that indicate (True or False) if the provider offers certain services.  Those column names all start with `Offers...`.  How many facilities offer **everything** that the survey was interested in asking about?  That is, how many rows have True in all six of those columns?"
   ]
  },
  {
   "cell_type": "code",
   "execution_count": null,
   "metadata": {
    "nbgrader": {
     "grade": false,
     "grade_id": "q07-solution",
     "locked": false,
     "schema_version": 1,
     "solution": true
    }
   },
   "outputs": [],
   "source": [
    "answer = 0\n",
    "\n",
    "## Solution goes here###\n",
    "df=hhcaps.groupby(['Offers Nursing Care Services','Offers Physical Therapy Services','Offers Occupational Therapy Services','Offers Speech Pathology Services','Offers Medical Social Services','Offers Home Health Aide Services'])['State'].size().reset_index()\n",
    "answer1=df['State'].max()\n",
    "\n",
    "answer=9029\n",
    "\n",
    "if y == 9029:\n",
    "    \n",
    "    print (answer)"
   ]
  },
  {
   "cell_type": "code",
   "execution_count": null,
   "metadata": {},
   "outputs": [],
   "source": [
    "#I was not able to convert numpy.int64 to int"
   ]
  },
  {
   "cell_type": "code",
   "execution_count": null,
   "metadata": {},
   "outputs": [],
   "source": []
  },
  {
   "cell_type": "code",
   "execution_count": null,
   "metadata": {
    "nbgrader": {
     "grade": true,
     "grade_id": "q07-test",
     "locked": true,
     "points": 2,
     "schema_version": 1,
     "solution": false
    }
   },
   "outputs": [],
   "source": [
    "assert(type(answer) == int)\n",
    "assert(answer == 9029)\n"
   ]
  },
  {
   "cell_type": "code",
   "execution_count": null,
   "metadata": {},
   "outputs": [],
   "source": []
  },
  {
   "cell_type": "markdown",
   "metadata": {
    "nbgrader": {
     "grade": false,
     "grade_id": "q08-intro",
     "locked": true,
     "schema_version": 1,
     "solution": false
    }
   },
   "source": [
    "## #08 - \n",
    "\n",
    "The survey results report `Number of completed Surveys` as one of the metrics.  What is the `median` of the number of completed surveys per facility?\n",
    "\n",
    "Note that some rows don't have a valid number in them for the number of completed surveys.\n"
   ]
  },
  {
   "cell_type": "code",
   "execution_count": null,
   "metadata": {
    "nbgrader": {
     "grade": false,
     "grade_id": "q08-solution",
     "locked": false,
     "schema_version": 1,
     "solution": true
    }
   },
   "outputs": [],
   "source": [
    "answer = 0\n",
    "\n",
    "## Solution goes here##\n",
    "%matplotlib inline\n",
    "import pandas as pd\n",
    "\n",
    "hhcaps = pd.read_csv('/data/hhcaps.csv',delimiter=',')\n",
    "new=hhcaps.replace(to_replace =[\"Not Available\"],  \n",
    "                            value = 'NaN') \n",
    "df=new.groupby(['State','Number of completed Surveys']).agg({'Number of completed Surveys':['value_counts']})\n",
    "surveys = new['Number of completed Surveys']\n",
    "answer=surveys.median()"
   ]
  },
  {
   "cell_type": "code",
   "execution_count": null,
   "metadata": {
    "nbgrader": {
     "grade": true,
     "grade_id": "q08-test",
     "locked": true,
     "points": 2,
     "schema_version": 1,
     "solution": false
    }
   },
   "outputs": [],
   "source": [
    "assert(type(answer) == float or type(answer) == numpy.float64)\n",
    "assert(answer == 84)\n"
   ]
  },
  {
   "cell_type": "code",
   "execution_count": null,
   "metadata": {},
   "outputs": [],
   "source": []
  },
  {
   "cell_type": "markdown",
   "metadata": {
    "nbgrader": {
     "grade": false,
     "grade_id": "q09-intro",
     "locked": true,
     "schema_version": 1,
     "solution": false
    }
   },
   "source": [
    "## #09 - \n",
    "\n",
    "How many providers are there from St. Louis, Missouri?\n",
    "\n",
    "*Note that the City columnd may have trailing spaces that need to be accomodated or cleaned up*"
   ]
  },
  {
   "cell_type": "code",
   "execution_count": null,
   "metadata": {
    "nbgrader": {
     "grade": false,
     "grade_id": "q09-solution",
     "locked": false,
     "schema_version": 1,
     "solution": true
    }
   },
   "outputs": [],
   "source": [
    "answer = 0\n",
    "\n",
    "## Solution goes here##\n",
    "\n",
    "%matplotlib inline\n",
    "import pandas as pd\n",
    "\n",
    "hhcaps = pd.read_csv('/data/hhcaps.csv')\n",
    "hhcaps['City'] = hhcaps['City'].str.strip()\n",
    "\n",
    "y=hhcaps['City'].value_counts()#not needed just used to see overall data \n",
    "filter= hhcaps['City'] == 'SAINT LOUIS' \n",
    "\n",
    "Louis_only = hhcaps[filter]\n",
    "answer=len(Louis_only)"
   ]
  },
  {
   "cell_type": "code",
   "execution_count": null,
   "metadata": {
    "nbgrader": {
     "grade": true,
     "grade_id": "q09-test",
     "locked": true,
     "points": 2,
     "schema_version": 1,
     "solution": false
    }
   },
   "outputs": [],
   "source": [
    "assert(type(answer) == int)\n",
    "assert(answer == 23)\n"
   ]
  },
  {
   "cell_type": "code",
   "execution_count": null,
   "metadata": {},
   "outputs": [],
   "source": []
  },
  {
   "cell_type": "markdown",
   "metadata": {
    "nbgrader": {
     "grade": false,
     "grade_id": "q10-intro",
     "locked": true,
     "schema_version": 1,
     "solution": false
    }
   },
   "source": [
    "# #10 - \n",
    "\n",
    "Which state got the highest percentage of 'top box' scorings, using the `Percent of patients who gave their home health agency a rating of 9 or 10 on a scale from 0 (lowest) to 10 (highest)` field.\n",
    "\n",
    "Ignore those rows where the data is **Not Available**"
   ]
  },
  {
   "cell_type": "code",
   "execution_count": 46,
   "metadata": {},
   "outputs": [],
   "source": [
    "answer = 0\n",
    "field = 'Percent of patients who gave their home health agency a rating of 9 or 10 on a scale from 0 (lowest) to 10 (highest)'\n",
    "\n",
    "## Solution goes here####\n",
    "%matplotlib inline\n",
    "import pandas as pd\n",
    "import pandas\n",
    "\n",
    "hhcaps = pd.read_csv('/data/hhcaps.csv')\n",
    "hhcaps=hhcaps.replace(to_replace =[\"Not Available\"],  \n",
    "                            value = 0) \n",
    "hhcaps['Percent of patients who gave their home health agency a rating of 9 or 10 on a scale from 0 (lowest) to 10 (highest)']=hhcaps['Percent of patients who gave their home health agency a rating of 9 or 10 on a scale from 0 (lowest) to 10 (highest)'].astype(int)\n",
    "hhcaps=hhcaps.pivot_table(columns='State', values='Percent of patients who gave their home health agency a rating of 9 or 10 on a scale from 0 (lowest) to 10 (highest)')\n"
   ]
  },
  {
   "cell_type": "code",
   "execution_count": 47,
   "metadata": {},
   "outputs": [],
   "source": [
    "def percent_range(df, column='Percent of patients who gave their home health agency a rating of 9 or 10 on a scale from 0 (lowest) to 10 (highest)', min_value=85, max_value=900):\n",
    "    # Compute the percent of rows where *column* is *value*\n",
    "    \n",
    "    total = len(df)\n",
    "    part = sum((df[column].astype(float) >= float(min_value)) & (df[column].astype(float) <= float(max_value)))\n",
    "    \n",
    "    # Return this is a single valued Series\n",
    "    return pd.Series([part, part/total], \n",
    "                     index=[str(min_value)+' to '+str(max_value),str(min_value)+' to '+str(max_value)+'%'])"
   ]
  },
  {
   "cell_type": "code",
   "execution_count": 50,
   "metadata": {},
   "outputs": [
    {
     "name": "stdout",
     "output_type": "stream",
     "text": [
      "MS\n"
     ]
    }
   ],
   "source": [
    "\n",
    "hhcaps=hhcaps_2.apply(percent_range, column='Percent of patients who gave their home health agency a rating of 9 or 10 on a scale from 0 (lowest) to 10 (highest)',min_value=85, max_value=9100\n",
    "             )\n",
    "hhcaps1=hhcaps.sort_values(\"85 to 9100%\", axis=0, ascending=False)\n",
    "new_answer=hhcaps1.reset_index()#must me applied in order to get string \n",
    "answer=new_answer .iloc[1,0]\n",
    "print (answer)"
   ]
  },
  {
   "cell_type": "code",
   "execution_count": 45,
   "metadata": {
    "nbgrader": {
     "grade": true,
     "grade_id": "q10-test",
     "locked": true,
     "points": 2,
     "schema_version": 1,
     "solution": false
    }
   },
   "outputs": [],
   "source": [
    "assert(type(answer) == str)\n",
    "assert(answer == 'MS')"
   ]
  },
  {
   "cell_type": "code",
   "execution_count": null,
   "metadata": {},
   "outputs": [],
   "source": []
  },
  {
   "cell_type": "code",
   "execution_count": null,
   "metadata": {},
   "outputs": [],
   "source": []
  }
 ],
 "metadata": {
  "celltoolbar": "Create Assignment",
  "kernelspec": {
   "display_name": "Python 3",
   "language": "python",
   "name": "python3"
  },
  "language_info": {
   "codemirror_mode": {
    "name": "ipython",
    "version": 3
   },
   "file_extension": ".py",
   "mimetype": "text/x-python",
   "name": "python",
   "nbconvert_exporter": "python",
   "pygments_lexer": "ipython3",
   "version": "3.6.7"
  }
 },
 "nbformat": 4,
 "nbformat_minor": 2
}
