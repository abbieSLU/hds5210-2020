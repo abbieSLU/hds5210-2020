{
 "cells": [
  {
   "cell_type": "raw",
   "metadata": {},
   "source": [
    "# HDS5210-2020 Midterm\n",
    "\n",
    "In the midterm, you're going to focus on using the programming skills that you've developed so far to build a calculator for the Apache II scoring system for ICU Mortality.  \n",
    "* https://www.mdcalc.com/apache-ii-score#evidence\n",
    "* https://reference.medscape.com/calculator/apache-ii-scoring-system\n",
    "\n",
    "For the midterm, we'll be building a calculator for the Apache II score and then running that against a patient file that's available to you out on the internet.  This will be broken down into three main steps:\n",
    "1. Create your JSON file to encapsulate all of the calculation rules for Apache II\n",
    "2. Create functions to calculate the Apache II score using your JSON configuration\n",
    "3. Create a function to loop over the patients in a file on the internet and calculate Apach II scores for all of them\n",
    "\n"
   ]
  },
  {
   "cell_type": "markdown",
   "metadata": {},
   "source": [
    "---\n",
    "\n",
    "## Part 1: Creating a JSON Rules File\n",
    "\n",
    "Look at the rules for the Apache II scoring system on the pages above.  The first step in the midterm is to use those rules and create a JSON configuration file as described in the 2019 midterm video.  I've provided a starter file named `apache.json` to get you started.\n",
    "\n",
    "Inside that file, you'll find placeholders for all of the measures that go into the Apache II scoring model:\n",
    "* Organ Failure History\n",
    "* Age\n",
    "* Temperature\n",
    "* [pH](https://en.wikipedia.org/wiki/PH)\n",
    "* Heart rate\n",
    "* Respiratory rate\n",
    "* [Sodium](https://www.mayoclinic.org/diseases-conditions/hyponatremia/symptoms-causes/syc-20373711)\n",
    "* [Potassium](https://www.emedicinehealth.com/hyperkalemia/article_em.htm)\n",
    "* [Creatinine](https://www.medicalnewstoday.com/articles/322380)\n",
    "* [Hematocrit](https://labtestsonline.org/tests/hematocrit)\n",
    "* White Blood Count\n",
    "* [FiO2](https://www.ausmed.com/cpd/articles/oxygen-flow-rate-and-fio2)\n",
    "* [PaO2](https://www.verywellhealth.com/partial-pressure-of-oyxgen-pa02-914920)\n",
    "* [A-a gradient](https://www.ncbi.nlm.nih.gov/books/NBK545153/)\n",
    "\n",
    "\n",
    "You may need to create a sort of nested set of rules in some cases.  For instance, the rule for Creatinine says to use certain ranges and points in the case of Acute Renal Failure and a different set of points for Chronic Renal Failure.\n",
    "\n",
    "Similarly, the rule for FiO2 says to use PaO2 to calculate scores if the FiO2 is <50, and to use A-a Gradient if the PaO2 is >50.\n",
    "\n",
    "When you've created your `apache.json` file, make sure it's in the same directory as this notebook."
   ]
  },
  {
   "cell_type": "markdown",
   "metadata": {},
   "source": [
    "### Testing your JSON\n",
    "\n",
    "The assert() functions below should all run just fine.  If you want to change the names of any of the keys in the JSON I provided you, you may, but you'll also need to update this test code so that it doesn't fail.  Remember, your notebook should be able to run end-to-end before you submit it."
   ]
  },
  {
   "cell_type": "code",
   "execution_count": 47,
   "metadata": {},
   "outputs": [],
   "source": [
    "import json\n",
    "\"\"\"\n",
    "This section imports the file to assert the keys and returns the output of each key. \n",
    ">>>('Organ Failure History' in y.keys())\n",
    "True\n",
    ">>>('Age' in y.keys())\n",
    "True \n",
    "\"\"\"\n",
    "with open('apache-final.json') as x:\n",
    "    y=json.load(x)"
   ]
  },
  {
   "cell_type": "code",
   "execution_count": 48,
   "metadata": {},
   "outputs": [
    {
     "data": {
      "text/plain": [
       "True"
      ]
     },
     "execution_count": 48,
     "metadata": {},
     "output_type": "execute_result"
    }
   ],
   "source": [
    "#Test functions\n",
    "('Organ Failure History' in y.keys())"
   ]
  },
  {
   "cell_type": "code",
   "execution_count": 49,
   "metadata": {},
   "outputs": [
    {
     "data": {
      "text/plain": [
       "True"
      ]
     },
     "execution_count": 49,
     "metadata": {},
     "output_type": "execute_result"
    }
   ],
   "source": [
    "('Age' in y.keys())\n"
   ]
  },
  {
   "cell_type": "code",
   "execution_count": 50,
   "metadata": {},
   "outputs": [],
   "source": [
    "assert('Age' in y.keys())\n",
    "assert('Temperature' in y.keys())\n",
    "assert('pH' in y.keys())\n",
    "assert('Heart Rate' in y.keys())\n",
    "assert('Respiratory Rate' in y.keys())\n",
    "assert('Sodium' in y.keys())\n",
    "assert('Potassium' in y.keys())\n",
    "assert('Creatinine' in y.keys())\n",
    "assert('Hematocrit' in y.keys())\n",
    "assert('White Blood Count' in y.keys())\n",
    "assert('FiO2' in y.keys())"
   ]
  },
  {
   "cell_type": "markdown",
   "metadata": {},
   "source": [
    "---\n",
    "\n",
    "## Part 2: Functions to evaluate rules\n",
    "\n",
    "Write a series of functions, enough to satisfy all of the main criteria that we're using to calculate the Apache II score.  That list is the same as the assert statements above.\n",
    "\n",
    "* Each of your functions should be well documented.\n",
    "* Each function should have \"config_file\" as one of it's parameters.\n",
    "* Each function should return a numerical score value.\n",
    "* Similar to what we discussed in the review, if you can generalize some rules, do so.  You should **NOT** end up with one function for each input variable.  If you did that, you'd have a lot of repetative code.\n",
    "\n",
    "The Glasgow Coma Scale is simply a 1-to-1 score translation.  Simply add the Glasgow Coma Scale value.  So, you don't need to write a function for this. [Glasgow Coma Scale](https://www.cdc.gov/masstrauma/resources/gcs.pdf)\n",
    "\n",
    "**CORRECTION ADDED 2/29** - The Glasgow Coma Scale points should be calculated as `1 - Glasgow Coma Scale` rather than what I just stated above.  My preference would be that you do the calculation correctly, as per MDCalc, and then use the **corrected** scores files to compare against as noted in Part 4."
   ]
  },
  {
   "cell_type": "code",
   "execution_count": 51,
   "metadata": {},
   "outputs": [],
   "source": [
    "import json\n",
    "### BEGIN SOLUTION for first function risk factors\n",
    "\n",
    "def risk_factors_score(risks_list, config_file):\n",
    "    \"\"\"\n",
    "    This function evalautes the risks in the apache formula and returns the score per risk according to the APACHE site. \n",
    "    The test functions are below. \n",
    "    >>>(risk_factors_score(['Nonoperative'],RISK_FACTORS_CONFIG_FILE)\n",
    "    5\n",
    "    \"\"\"\n",
    "    \n",
    "    score = 0\n",
    "    \n",
    "    \n",
    "    \n",
    "    config = json.load(open(config_file))\n",
    "    risk_factor_scores = config.get(\"Organ Failure History\")\n",
    "    \n",
    "    \n",
    "    for risk in risks_list:\n",
    "        if risk in risk_factor_scores:\n",
    "            score += risk_factor_scores.get(risk)\n",
    "    \n",
    "    \n",
    "    ### END SOLUTION\n",
    "   \n",
    "    return score"
   ]
  },
  {
   "cell_type": "code",
   "execution_count": 52,
   "metadata": {},
   "outputs": [],
   "source": [
    "RISK_FACTORS_CONFIG_FILE = \"apache-final.json\""
   ]
  },
  {
   "cell_type": "code",
   "execution_count": 53,
   "metadata": {},
   "outputs": [],
   "source": [
    "assert(risk_factors_score([],RISK_FACTORS_CONFIG_FILE) == 0)\n",
    "assert(risk_factors_score(['Nonoperative'],RISK_FACTORS_CONFIG_FILE) == 5)\n",
    "assert(risk_factors_score(['Emergency'],RISK_FACTORS_CONFIG_FILE) == 5)"
   ]
  },
  {
   "cell_type": "code",
   "execution_count": 62,
   "metadata": {},
   "outputs": [],
   "source": [
    "### Second function #####\n",
    "\n",
    "import json\n",
    "\"\"\"\n",
    "    This function evalautes the age, temperature in Celsius, and pH levels. The reason this function includes \n",
    "        these parameters because they are closely related to each other since it gathers\n",
    "        basic information from the patient/tester. The reason pd.Series is added because in the final function pandas is used.\n",
    "        This overides the error \"cannot convert the series to <class 'float'>\", 'occurred at index loss').\n",
    "        >>>all_factors(6,0,0, AGE_TEMP_PH_CONFIG_FILE)\n",
    "        8\n",
    "    \"\"\"\n",
    "def all_factors(age, temp, ph, config_file):\n",
    "    \n",
    "    score=0\n",
    "    config=json.load(open(config_file))\n",
    "    age_rules= config.get(\"Age\")  \n",
    "    temp_rules=config.get(\"Temperature\")\n",
    "    ph_rules=config.get(\"pH\")\n",
    "    \n",
    "    for rule in age_rules:\n",
    "        if pd.Series((age) >= rule.get('min')).all() and pd.Series((age) < rule.get('max')).all():\n",
    "            score= rule.get('points')\n",
    "    \n",
    "    score2=0\n",
    "    \n",
    "    for rule2 in temp_rules:\n",
    "        if pd.Series((temp) >= rule2.get('min')).all() and pd.Series((temp) < rule2.get('max')).all():\n",
    "            score2= rule2.get('points')\n",
    "    score3=0\n",
    "    for rule3 in ph_rules:\n",
    "        if pd.Series((ph) >= rule3.get('min')).all() and pd.Series((ph) < rule3.get('max')).all():\n",
    "            score3=rule3.get('points')\n",
    "    final_score=score+score2+score3    \n",
    "    \n",
    "    return final_score\n",
    "\n"
   ]
  },
  {
   "cell_type": "code",
   "execution_count": 63,
   "metadata": {},
   "outputs": [],
   "source": [
    "AGE_TEMP_PH_CONFIG_FILE = \"apache-final.json\"\n",
    "\n"
   ]
  },
  {
   "cell_type": "code",
   "execution_count": 64,
   "metadata": {},
   "outputs": [],
   "source": [
    "assert(all_factors(6,0,0, AGE_TEMP_PH_CONFIG_FILE))==8\n",
    "assert(all_factors(56,44,7, AGE_TEMP_PH_CONFIG_FILE)==11)\n",
    "assert(all_factors(0,0,0, AGE_TEMP_PH_CONFIG_FILE)==8)"
   ]
  },
  {
   "cell_type": "code",
   "execution_count": 65,
   "metadata": {},
   "outputs": [],
   "source": [
    "###Third function ####\n",
    "\n",
    "import json\n",
    "    \n",
    "def rates(heart, respiratory, config_file):\n",
    "    \"\"\"\n",
    "        This function evaluates the heart and respiratory rate for the patient. It is the same logic as above but place as its\n",
    "        own function since it is a different category. Ths function returns a score for the patient. \n",
    "        >>>(rates(42,8, HEART_RESP_CONFIG_FILE))\n",
    "        5\n",
    "    \"\"\"\n",
    "    score4=0\n",
    "    config=json.load(open(config_file))\n",
    "      \n",
    "    heart_rules=config.get(\"Heart Rate\")\n",
    "    resp_rules= config.get(\"Respiratory Rate\")  \n",
    "    \n",
    "    for rule4 in heart_rules:\n",
    "        if pd.Series((heart) >= rule4.get('min')).all() and pd.Series((heart) < rule4.get('max')).all():\n",
    "            score4= rule4.get('points')\n",
    "    \n",
    "    score5=0\n",
    "    \n",
    "    for rule5 in resp_rules:\n",
    "        if pd.Series((respiratory) >= rule5.get('min')).all() and pd.Series((respiratory) < rule5.get('max')).all():\n",
    "            score5= rule5.get('points')\n",
    "    \n",
    "    final_score_rates=score4+score5   \n",
    "    \n",
    "    return final_score_rates"
   ]
  },
  {
   "cell_type": "code",
   "execution_count": 66,
   "metadata": {},
   "outputs": [],
   "source": [
    "HEART_RESP_CONFIG_FILE = \"apache-final.json\"\n"
   ]
  },
  {
   "cell_type": "code",
   "execution_count": 67,
   "metadata": {},
   "outputs": [
    {
     "data": {
      "text/plain": [
       "4"
      ]
     },
     "execution_count": 67,
     "metadata": {},
     "output_type": "execute_result"
    }
   ],
   "source": [
    "rates(100,79,HEART_RESP_CONFIG_FILE)"
   ]
  },
  {
   "cell_type": "code",
   "execution_count": 68,
   "metadata": {},
   "outputs": [],
   "source": [
    "assert(rates(42,8, HEART_RESP_CONFIG_FILE))==5\n",
    "assert(rates(6,10, HEART_RESP_CONFIG_FILE))==6\n",
    "assert(rates(100,79, HEART_RESP_CONFIG_FILE))==4"
   ]
  },
  {
   "cell_type": "code",
   "execution_count": 69,
   "metadata": {},
   "outputs": [],
   "source": [
    "### Forth function###\n",
    "import json\n",
    "\"\"\"\n",
    "    This function evalautes the sodium and potassium levels of the patient. This function returns a score for the sodium and potassium levels.\n",
    "    It is the same logic as above but place as its\n",
    "    own function since it is a different category.\n",
    "    >>>(serum(0,0, SODIUM_POTASSIUM_CONFIG_FILE))\n",
    "    8\n",
    "\"\"\"\n",
    "def serum(sodium, potassium, config_file):\n",
    "\n",
    "    score6=0\n",
    "    config=json.load(open(config_file))\n",
    "    sodium_rules=config.get(\"Sodium\")\n",
    "    pot_rules=config.get(\"Potassium\")\n",
    "    \n",
    "    for rule6 in sodium_rules:\n",
    "        if pd.Series((sodium) >= rule6.get('min')).all() and pd.Series((sodium) < rule6.get('max')).all():\n",
    "            score6=rule6.get('points')\n",
    "        \n",
    "    score7=0\n",
    "    for rule7 in pot_rules:\n",
    "        if pd.Series((potassium) >= rule7.get('min')).all() and pd.Series((potassium) < rule7.get('max')).all():\n",
    "            score7=rule7.get('points')\n",
    "    \n",
    "    final_score_serum=score6+score7\n",
    "    return final_score_serum\n",
    "    "
   ]
  },
  {
   "cell_type": "code",
   "execution_count": 70,
   "metadata": {},
   "outputs": [],
   "source": [
    "SODIUM_POTASSIUM_CONFIG_FILE=\"apache-final.json\"\n"
   ]
  },
  {
   "cell_type": "code",
   "execution_count": 71,
   "metadata": {},
   "outputs": [
    {
     "data": {
      "text/plain": [
       "4"
      ]
     },
     "execution_count": 71,
     "metadata": {},
     "output_type": "execute_result"
    }
   ],
   "source": [
    "serum(131,131, SODIUM_POTASSIUM_CONFIG_FILE)"
   ]
  },
  {
   "cell_type": "code",
   "execution_count": 72,
   "metadata": {},
   "outputs": [],
   "source": [
    "assert(serum(0,0, SODIUM_POTASSIUM_CONFIG_FILE))==8\n",
    "assert(serum(6,15, SODIUM_POTASSIUM_CONFIG_FILE))==8\n",
    "assert(serum(131,131, SODIUM_POTASSIUM_CONFIG_FILE))==4"
   ]
  },
  {
   "cell_type": "code",
   "execution_count": 73,
   "metadata": {},
   "outputs": [],
   "source": [
    "###This is the fifth function ###\n",
    "import json\n",
    "def blood(white_blood_count, hematocrit, config_file):\n",
    "    \"\"\"\n",
    "    This function returns a score for both a white blood count and hematocrit. Uses the same logic as above howevever it is in a different category\n",
    "    and has its own function. \n",
    "    >>>blood(22,0, WHITE_BLOOD_HEMATOCRIT_CONFIG_FILE))\n",
    "    6   \n",
    "    \"\"\"\n",
    "    \n",
    "    config=json.load(open(config_file))\n",
    "    hemato_1=config.get(\"Hematocrit\")\n",
    "    white_blood=config.get(\"White Blood Count\")\n",
    "    \n",
    "    \n",
    "    score9=0\n",
    "    for rule9 in hemato_1:\n",
    "        if pd.Series((hematocrit) >= rule9.get('min')).all() and pd.Series((hematocrit) < rule9.get('max')).all():\n",
    "            score9=rule9.get('points')\n",
    "    score8=0\n",
    "    for rule8 in white_blood:\n",
    "        if pd.Series((white_blood_count) >= rule8.get('min')).all() and pd.Series((white_blood_count) < rule8.get('max')).all():\n",
    "            score8=rule8.get('points')\n",
    "   \n",
    "    \n",
    "    final_score_blood=score8+score9\n",
    "    return final_score_blood"
   ]
  },
  {
   "cell_type": "code",
   "execution_count": 74,
   "metadata": {},
   "outputs": [],
   "source": [
    "WHITE_BLOOD_HEMATOCRIT_CONFIG_FILE=\"apache-final.json\""
   ]
  },
  {
   "cell_type": "code",
   "execution_count": 75,
   "metadata": {},
   "outputs": [
    {
     "data": {
      "text/plain": [
       "4"
      ]
     },
     "execution_count": 75,
     "metadata": {},
     "output_type": "execute_result"
    }
   ],
   "source": [
    "(blood(5.6,100, WHITE_BLOOD_HEMATOCRIT_CONFIG_FILE))"
   ]
  },
  {
   "cell_type": "code",
   "execution_count": 76,
   "metadata": {},
   "outputs": [],
   "source": [
    "assert(blood(22,0, WHITE_BLOOD_HEMATOCRIT_CONFIG_FILE))==6\n",
    "assert((blood(55,15, WHITE_BLOOD_HEMATOCRIT_CONFIG_FILE)))==8\n",
    "assert(blood(5.6,100, WHITE_BLOOD_HEMATOCRIT_CONFIG_FILE))==4"
   ]
  },
  {
   "cell_type": "code",
   "execution_count": 77,
   "metadata": {},
   "outputs": [],
   "source": [
    "### This function is the sixth function###\n",
    "\"\"\"\n",
    "This function evaluates the Glasgow score by taking the given score and subtracting it by 15. Equation used 15-glasgow score. \n",
    ">>>(glas(13))\n",
    "2\n",
    "\"\"\"\n",
    "def glas(points):\n",
    "    glas_points=15-points\n",
    "\n",
    "    return glas_points\n"
   ]
  },
  {
   "cell_type": "code",
   "execution_count": 78,
   "metadata": {},
   "outputs": [
    {
     "data": {
      "text/plain": [
       "True"
      ]
     },
     "execution_count": 78,
     "metadata": {},
     "output_type": "execute_result"
    }
   ],
   "source": [
    "(glas(13))==2"
   ]
  },
  {
   "cell_type": "code",
   "execution_count": 79,
   "metadata": {},
   "outputs": [
    {
     "data": {
      "text/plain": [
       "5"
      ]
     },
     "execution_count": 79,
     "metadata": {},
     "output_type": "execute_result"
    }
   ],
   "source": [
    "(glas(10))"
   ]
  },
  {
   "cell_type": "code",
   "execution_count": 80,
   "metadata": {},
   "outputs": [
    {
     "data": {
      "text/plain": [
       "True"
      ]
     },
     "execution_count": 80,
     "metadata": {},
     "output_type": "execute_result"
    }
   ],
   "source": [
    "(glas(5))==10"
   ]
  },
  {
   "cell_type": "code",
   "execution_count": 128,
   "metadata": {},
   "outputs": [],
   "source": [
    "### This is the 7th function ###\n",
    "import json\n",
    "def muscle(creatinine, failure, config_file):\n",
    "    \"\"\"\n",
    "    This function evaluates the creatinine and whether the patient has acute and chronic renal failure. Ths function uses a if-else statement\n",
    "    and once that failure is determine then the score can be evaluated. \n",
    "    >>>(muscle(3.5,'Chronic Renal Failure', CREATININE_FAILURE_CONFIG_FILE))\n",
    "    4\n",
    "    \"\"\"\n",
    "    \n",
    "    mus_score=0\n",
    "    config = json.load(open(config_file))\n",
    "    mus_entries = config.get(\"Creatinine\")\n",
    "    new_mus=mus_entries.get(\"Acute Renal Failure\")\n",
    "    new_mus2=mus_entries.get(\"Chronic Renal Failure\")\n",
    "    \n",
    "    if pd.Series(failure==(\"Acute Renal Failure\")).all():\n",
    "            creat=config.get(\"Acute Renal Failure\")\n",
    "            for x in new_mus:\n",
    "                if pd.Series((creatinine) >= x.get('min')).all() and pd.Series((creatinine) < x.get('max')).all():\n",
    "                    mus_score= x.get('points')\n",
    "    elif pd.Series(failure==(\"Chronic Renal Failure\")).all():\n",
    "             creat2=config.get(\"Creatinine\").get(\"Chronic Renal Failure\")\n",
    "             for y in new_mus2:\n",
    "                if float(creatinine) >= y.get('min') and float(creatinine) < y.get('max'):\n",
    "                    mus_score= y.get('points')\n",
    "    \n",
    "    return mus_score"
   ]
  },
  {
   "cell_type": "code",
   "execution_count": 129,
   "metadata": {},
   "outputs": [],
   "source": [
    "CREATININE_FAILURE_CONFIG_FILE=\"apache-final.json\""
   ]
  },
  {
   "cell_type": "code",
   "execution_count": 130,
   "metadata": {},
   "outputs": [
    {
     "data": {
      "text/plain": [
       "0"
      ]
     },
     "execution_count": 130,
     "metadata": {},
     "output_type": "execute_result"
    }
   ],
   "source": [
    "muscle(1.6,['Chronic Renal Failure'], CREATININE_FAILURE_CONFIG_FILE) #with brackets changes sum "
   ]
  },
  {
   "cell_type": "code",
   "execution_count": 131,
   "metadata": {},
   "outputs": [],
   "source": [
    "assert(muscle(3.5,'Chronic Renal Failure', CREATININE_FAILURE_CONFIG_FILE)==4 )\n",
    "assert(muscle(1.8,'Chronic Renal Failure', CREATININE_FAILURE_CONFIG_FILE)==2)\n",
    "assert(muscle(1.6,'Acute Renal Failure', CREATININE_FAILURE_CONFIG_FILE)==4)"
   ]
  },
  {
   "cell_type": "code",
   "execution_count": 132,
   "metadata": {},
   "outputs": [
    {
     "data": {
      "text/plain": [
       "2"
      ]
     },
     "execution_count": 132,
     "metadata": {},
     "output_type": "execute_result"
    }
   ],
   "source": [
    "muscle(1.6,'Chronic Renal Failure', CREATININE_FAILURE_CONFIG_FILE)"
   ]
  },
  {
   "cell_type": "code",
   "execution_count": 86,
   "metadata": {},
   "outputs": [],
   "source": [
    "###This is the 8th function###\n",
    "import json \n",
    "\"\"\"\n",
    "    This function evaluates the oxygent levels PIO2 and FIO2 and the Aa-gradient. This depends what the patient/tester inputs. This function has\n",
    "    its own function because the category is related to oxygen. \n",
    "    >>>(oxygen(3.5, 20, 400, FIO2_PAO2_GRADIENT_CONFIG_FILE))\n",
    "    3\n",
    "\"\"\"\n",
    "def oxygen(FIO2,PAO2, gradient, config_file):\n",
    "    config=json.load(open(config_file))\n",
    "    oxygen_entry=config.get(\"FiO2\")\n",
    "    \n",
    "    score_ox=0\n",
    "    \n",
    "    new_breath=config.get(\"PaO2\")\n",
    "    new_breath_2=config.get(\"A-a gradient\")\n",
    "    \n",
    "    if pd.Series(FIO2 >=oxygen_entry[0].get('min')).all() and pd.Series((FIO2) < oxygen_entry[0].get('max')).all():\n",
    "                 PAO2_list=oxygen_entry[0].get('PaO2')\n",
    "                 for PAO2_1 in PAO2_list:\n",
    "                     if pd.Series((PAO2) >=PAO2_1.get('min')).all() and pd.Series((PAO2) <PAO2_1.get('max')).all():\n",
    "                            score_ox=PAO2_1.get('points')\n",
    "   \n",
    "    elif pd.Series(FIO2 >=oxygen_entry[1].get('min')).all() and pd.Series((FIO2) < oxygen_entry[1].get('max')).all():\n",
    "                g_list=oxygen_entry[1].get('A-a gradient')\n",
    "                for g2 in g_list:\n",
    "                    if pd.Series((gradient) >=g2.get('min')).all() and pd.Series((gradient) < g2.get('max')).all():\n",
    "                            score_ox=g2.get('points')\n",
    "                 \n",
    "                 \n",
    "    \n",
    "    \n",
    "    return score_ox"
   ]
  },
  {
   "cell_type": "code",
   "execution_count": 87,
   "metadata": {},
   "outputs": [],
   "source": [
    "FIO2_PAO2_GRADIENT_CONFIG_FILE=\"apache-final.json\""
   ]
  },
  {
   "cell_type": "code",
   "execution_count": 88,
   "metadata": {},
   "outputs": [
    {
     "data": {
      "text/plain": [
       "3"
      ]
     },
     "execution_count": 88,
     "metadata": {},
     "output_type": "execute_result"
    }
   ],
   "source": [
    "(oxygen(61,59,458, FIO2_PAO2_GRADIENT_CONFIG_FILE))\n"
   ]
  },
  {
   "cell_type": "code",
   "execution_count": 97,
   "metadata": {},
   "outputs": [
    {
     "data": {
      "text/plain": [
       "4"
      ]
     },
     "execution_count": 97,
     "metadata": {},
     "output_type": "execute_result"
    }
   ],
   "source": [
    "oxygen(57, 74, 527, FIO2_PAO2_GRADIENT_CONFIG_FILE)"
   ]
  },
  {
   "cell_type": "code",
   "execution_count": 98,
   "metadata": {},
   "outputs": [],
   "source": [
    "assert(oxygen(3.5, 20, 400, FIO2_PAO2_GRADIENT_CONFIG_FILE)==0)\n",
    "assert(oxygen(66, 59, 205, FIO2_PAO2_GRADIENT_CONFIG_FILE)==2)\n",
    "assert(oxygen(57, 74, 527, FIO2_PAO2_GRADIENT_CONFIG_FILE)==4)"
   ]
  },
  {
   "cell_type": "markdown",
   "metadata": {},
   "source": [
    "### Testing you Functions\n",
    "\n",
    "Write enough test cases to verify that your functions work for evaulating all of the scoring inputs.  Have at least 3 test cases for each input.\n",
    "\n",
    "These tests can be written the same as the assertions we've use in previous assignments.  For example, if you a function for `temperature_score` then you write a test case like:\n",
    "\n",
    "```\n",
    "assert( temperature_score(37) == 0 )\n",
    "```"
   ]
  },
  {
   "cell_type": "code",
   "execution_count": 99,
   "metadata": {},
   "outputs": [],
   "source": [
    "###Test functions or assertions are above within each function. "
   ]
  },
  {
   "cell_type": "markdown",
   "metadata": {},
   "source": [
    "---\n",
    "\n",
    "## Part 3: Put it all together\n",
    "\n",
    "Create a new function called `apache_score()` that takes all of the necessary inputs and returns the final Apache II score.  Use any variable names that you want.  For clarity and organization, my recommendation is to create them in the same order as they're documented in the website.\n",
    "\n",
    "1. Organ Failure History\n",
    "2. Age\n",
    "3. Temperature\n",
    "4. pH \n",
    "5. Heart rate\n",
    "6. Respiratory rate\n",
    "7. Sodium\n",
    "8. Potassium\n",
    "9. Creatinine\n",
    "10. Acute renal failure\n",
    "11. Hematocrit\n",
    "12. White Blood Count\n",
    "13. Glasgow Coma Scale\n",
    "14. FiO2\n",
    "15. PaO2\n",
    "16. A-a gradient\n"
   ]
  },
  {
   "cell_type": "code",
   "execution_count": 236,
   "metadata": {},
   "outputs": [],
   "source": [
    "import json\n",
    "\"\"\"\n",
    "        This function combines all functions above to give you a total score of the parameters. The order is the same as the excel sheet provided.\n",
    "        The test functions are below. \n",
    "\"\"\"\n",
    "def apache_score2(risk_factors, age, temp, ph, heart, respiratory, sodium, potassium, creatinine, failure, hematocrit, white_blood_count, points, FIO2, PAO2, gradient):\n",
    "    total_score=0\n",
    "    total_score2=0\n",
    "    \n",
    "    \n",
    "    config_file = \"apache-final.json\"\n",
    "    total_score += risk_factors_score(risk_factors, config_file)\n",
    "    total_score += all_factors(age, temp, ph, config_file)\n",
    "    total_score += rates(heart, respiratory, config_file)\n",
    "    total_score += serum(sodium, potassium, config_file)\n",
    "    total_score += (muscle(creatinine, failure, config_file))\n",
    "    total_score += blood(hematocrit,white_blood_count, config_file)\n",
    "    total_score += glas(points)\n",
    "    total_score += oxygen(FIO2, PAO2, gradient, config_file)\n",
    "   \n",
    "    total_score2=total_score+1\n",
    "    \n",
    "    \n",
    "    return total_score2\n"
   ]
  },
  {
   "cell_type": "code",
   "execution_count": 196,
   "metadata": {},
   "outputs": [
    {
     "data": {
      "text/plain": [
       "35"
      ]
     },
     "execution_count": 196,
     "metadata": {},
     "output_type": "execute_result"
    }
   ],
   "source": [
    "(apache_score2(['Emergency'],6,27,7.3,174,10,170,7.8,1.6,\"Chronic Renal Failure\",3,28,13,61,59,458))"
   ]
  },
  {
   "cell_type": "code",
   "execution_count": 197,
   "metadata": {},
   "outputs": [
    {
     "data": {
      "text/plain": [
       "47"
      ]
     },
     "execution_count": 197,
     "metadata": {},
     "output_type": "execute_result"
    }
   ],
   "source": [
    "(apache_score2(['Nonoperative'],32,33,7.5,26,1,189,6,1.6,'Acute Renal Failure',64,8,1,45,73,424))"
   ]
  },
  {
   "cell_type": "code",
   "execution_count": 198,
   "metadata": {},
   "outputs": [
    {
     "data": {
      "text/plain": [
       "34"
      ]
     },
     "execution_count": 198,
     "metadata": {},
     "output_type": "execute_result"
    }
   ],
   "source": [
    "(apache_score2(['Nonoperative'],10,32,7.7,10,26,144,6.2,1.8,'Chronic Renal Failure',56,50,9,41,61,217))\n"
   ]
  },
  {
   "cell_type": "code",
   "execution_count": 199,
   "metadata": {},
   "outputs": [
    {
     "data": {
      "text/plain": [
       "47"
      ]
     },
     "execution_count": 199,
     "metadata": {},
     "output_type": "execute_result"
    }
   ],
   "source": [
    "(apache_score2(['Nonoperative'],62,28,7.1,56,7,177,0.4,1.6, \"Acute Renal Failure\",38,50,7,57,74,527))"
   ]
  },
  {
   "cell_type": "markdown",
   "metadata": {},
   "source": [
    "### Testing your Function\n",
    "\n",
    "Write a few test cases to make sure that your code functions correctly.  In the last step, you'll have LOTS of test cases run through, but you should do some of your before moving on."
   ]
  },
  {
   "cell_type": "code",
   "execution_count": null,
   "metadata": {},
   "outputs": [],
   "source": [
    "\n",
    " "
   ]
  },
  {
   "cell_type": "code",
   "execution_count": null,
   "metadata": {},
   "outputs": [],
   "source": []
  },
  {
   "cell_type": "markdown",
   "metadata": {},
   "source": [
    "---\n",
    "\n",
    "## Part 4: Accessing and processing the patient file\n",
    "\n",
    "Fill out the simple function below to retrieve the patient data as a CSV file from any given URL and return a list of all of the Apache II scores based on the data you find for those patients.\n",
    "* The patient file will be a CSV\n",
    "* It will have column headers that match the labels shown above\n",
    "* The columns will not necessarily appear in the order shown above\n",
    "* You should output only the Apache II scores, not any other information\n",
    "* Your output should be a list in the same order as the input rows"
   ]
  },
  {
   "cell_type": "code",
   "execution_count": 264,
   "metadata": {},
   "outputs": [
    {
     "name": "stdout",
     "output_type": "stream",
     "text": [
      "0    35\n",
      "Name: Glasgow Coma Scale, dtype: int64\n",
      "0    35\n",
      "Name: Glasgow Coma Scale, dtype: int64\n",
      "0    35\n",
      "Name: Glasgow Coma Scale, dtype: int64\n",
      "0    35\n",
      "Name: Glasgow Coma Scale, dtype: int64\n",
      "0    35\n",
      "Name: Glasgow Coma Scale, dtype: int64\n",
      "0    35\n",
      "Name: Glasgow Coma Scale, dtype: int64\n",
      "0    35\n",
      "Name: Glasgow Coma Scale, dtype: int64\n",
      "0    35\n",
      "Name: Glasgow Coma Scale, dtype: int64\n",
      "0    35\n",
      "Name: Glasgow Coma Scale, dtype: int64\n",
      "0    35\n",
      "Name: Glasgow Coma Scale, dtype: int64\n",
      "0    35\n",
      "Name: Glasgow Coma Scale, dtype: int64\n",
      "0    35\n",
      "Name: Glasgow Coma Scale, dtype: int64\n",
      "0    35\n",
      "Name: Glasgow Coma Scale, dtype: int64\n",
      "0    35\n",
      "Name: Glasgow Coma Scale, dtype: int64\n",
      "0    35\n",
      "Name: Glasgow Coma Scale, dtype: int64\n",
      "0    35\n",
      "Name: Glasgow Coma Scale, dtype: int64\n",
      "0    35\n",
      "Name: Glasgow Coma Scale, dtype: int64\n"
     ]
    }
   ],
   "source": [
    "## last problem\n",
    "import pandas as pd\n",
    "import requests\n",
    "import json \n",
    "\n",
    "site = 'https://hds5210-2020.s3.amazonaws.com/TestPatients.csv'\n",
    "df=pd.read_csv(site)\n",
    "\n",
    "#patients=pd.DataFrame(df)\n",
    "patients=pd.read_csv(site,nrows=1)\n",
    "\n",
    "finals =[]\n",
    "\n",
    "for patient in patients:\n",
    "    hist = patients.get('Organ Failure History')\n",
    "    age1= patients.get('Age')\n",
    "    temp1= patients.get('Temperature')\n",
    "    ph1= patients.get('pH')\n",
    "    lev= patients.get('Heart Rate')\n",
    "    lev2= patients.get('Respiratory Rate')\n",
    "    salt1= patients.get('Sodium')\n",
    "    pot1= patients.get('Potassium')\n",
    "    cre= patients.get('Creatinine')\n",
    "    fail=patients.get('Acute Renal Failure')\n",
    "    hemato1= patients.get('Hematocrit')\n",
    "    blood2= patients.get('White Blood Count')\n",
    "    coma= patients.get('Glasgow Coma Scale')\n",
    "    fi= patients.get('FiO2')\n",
    "    pa= patients.get('PaO2')\n",
    "    gra= patients.get('A-a Gradient')\n",
    "    \n",
    "    #df[\"Age\"]= df[\"Age\"].astype(int)\n",
    "    #df[\"Temperature\"]= df[\"Temperature\"].astype(int)\n",
    "    #df[\"pH\"]= df[\"pH\"].astype(int)\n",
    "    \n",
    "    #risk_factors, age, temp, ph, heart, respiratory, sodium, potassium, creatinine, failure, hematocrit, white_blood_count, points, FIO2, PAO2, gradient\n",
    "    score_end=apache_score2(hist,age1,temp1,ph1,lev,lev2,salt1,pot1,cre,fail, hemato1,blood2,coma,fi, pa, gra)\n",
    "    \n",
    "    #finals=score_end \n",
    "    \n",
    "    print (score_end)"
   ]
  },
  {
   "cell_type": "code",
   "execution_count": null,
   "metadata": {},
   "outputs": [],
   "source": []
  },
  {
   "cell_type": "code",
   "execution_count": null,
   "metadata": {},
   "outputs": [],
   "source": []
  },
  {
   "cell_type": "code",
   "execution_count": null,
   "metadata": {},
   "outputs": [],
   "source": []
  },
  {
   "cell_type": "code",
   "execution_count": null,
   "metadata": {},
   "outputs": [],
   "source": []
  },
  {
   "cell_type": "markdown",
   "metadata": {},
   "source": [
    "### Testing your Function\n",
    "\n",
    "The URL for the test data is: https://hds5210-2020.s3.amazonaws.com/TestPatients.csv\n",
    "\n",
    "\n",
    "You can verify your results by comparing them against this data: https://hds5210-2020.s3.amazonaws.com/Scores.csv\n",
    "\n",
    "**CORRECTION ADDED 3/29** - If you calculated the Glasgow Coma Scale points as per the actual instructions in MDCalc, then please use this set of corrected scores to compare your results with: https://hds5210-2020.s3.amazonaws.com/Scores_corrected.csv\n"
   ]
  },
  {
   "cell_type": "code",
   "execution_count": null,
   "metadata": {},
   "outputs": [],
   "source": []
  },
  {
   "cell_type": "code",
   "execution_count": null,
   "metadata": {},
   "outputs": [],
   "source": []
  }
 ],
 "metadata": {
  "kernelspec": {
   "display_name": "Python 3",
   "language": "python",
   "name": "python3"
  },
  "language_info": {
   "codemirror_mode": {
    "name": "ipython",
    "version": 3
   },
   "file_extension": ".py",
   "mimetype": "text/x-python",
   "name": "python",
   "nbconvert_exporter": "python",
   "pygments_lexer": "ipython3",
   "version": "3.6.7"
  }
 },
 "nbformat": 4,
 "nbformat_minor": 4
}
