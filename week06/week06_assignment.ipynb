{
 "cells": [
  {
   "cell_type": "markdown",
   "metadata": {
    "nbgrader": {
     "grade": false,
     "grade_id": "intro",
     "locked": true,
     "schema_version": 1,
     "solution": false
    }
   },
   "source": [
    "# Week 6 Exercises\n",
    "\n",
    "_McKinney 6.1_\n",
    "\n",
    "There are multiple ways to solve the problems below.  You can use any one of several approaches.  For example, you can read CSV files using Pandas or the csv module.  Your score won't depend on which modules you choose to use unless explicitly noted below, but your programming style will still matter."
   ]
  },
  {
   "cell_type": "markdown",
   "metadata": {},
   "source": [
    "### 26.1 - When a Python program opens a file to read from it, no other programs can read from the same file at the same time.\n",
    "\n",
    "> True or False\n"
   ]
  },
  {
   "cell_type": "code",
   "execution_count": null,
   "metadata": {},
   "outputs": [],
   "source": [
    "answer261 = False "
   ]
  },
  {
   "cell_type": "markdown",
   "metadata": {},
   "source": [
    "### 26.2 - What is the advantage of opening files in Python using a `with` block?\n",
    "\n",
    "> A) It ensures the file is closed as soon as you're done using it\n",
    ">\n",
    "> B) It runs faster than not using the `with` block\n",
    ">\n",
    "> C) It automatically loads the whole file into memory so that it can be accessed faster\n",
    ">\n",
    "> D) Actually, it is the only way to do it\n"
   ]
  },
  {
   "cell_type": "code",
   "execution_count": null,
   "metadata": {},
   "outputs": [],
   "source": [
    "answer262 = \"A\""
   ]
  },
  {
   "cell_type": "markdown",
   "metadata": {},
   "source": [
    "### 26.3 - Which of the following is true?\n",
    "\n",
    "> A) Many files only contain text, but many file formats do not use text\n",
    ">\n",
    "> B) All files contain only text, it's the just the text contents that explain the data to the computer\n",
    ">\n",
    "> C) All files contain only text in either JSON, XML, or CSV.\n",
    ">\n",
    "> D) Even if files contain only text, there still has to be a special code at the beginning to explain that this file will contain only text.\n"
   ]
  },
  {
   "cell_type": "code",
   "execution_count": null,
   "metadata": {},
   "outputs": [],
   "source": [
    "answer263 = \"B\""
   ]
  },
  {
   "cell_type": "markdown",
   "metadata": {},
   "source": [
    "### 27.1 - Which of the following do you think is least likely to be used as a delimiter in structured files?\n",
    "\n",
    "> A) `,`\n",
    ">\n",
    "> B) `|`\n",
    ">\n",
    "> C) `[tab]`\n",
    ">\n",
    "> D) `[space]`\n"
   ]
  },
  {
   "cell_type": "code",
   "execution_count": null,
   "metadata": {},
   "outputs": [],
   "source": [
    "answer271 = \"B\""
   ]
  },
  {
   "cell_type": "markdown",
   "metadata": {},
   "source": [
    "### 27.2 - Which approaches can be used to read pipe-delimited (`|`) files?\n",
    "\n",
    "*Report your answer as a list of options, e.g.: `[\"A\",\"C\"]`*\n",
    "\n",
    "> A) Using the csv module\n",
    ">\n",
    "> B) Using the pandas module\n",
    ">\n",
    "> C) Using built-in file reading\n",
    ">\n",
    "> D) Using the psv module\n"
   ]
  },
  {
   "cell_type": "code",
   "execution_count": null,
   "metadata": {},
   "outputs": [],
   "source": [
    "answer272 = [\"A\",\"B\"]"
   ]
  },
  {
   "cell_type": "markdown",
   "metadata": {},
   "source": [
    "### 27.3 - In a CSV file, how does the format change if you want to have a `,` in the actual contents of the file rather than as a delimiter?\n",
    "\n",
    "> A) You can't do that.  You have to remove every occurence of `,`s\n",
    ">\n",
    "> B) Enclose the `,` using quotation marks\n",
    ">\n",
    "> C) Escape the `,` using a back-slash\n",
    ">\n",
    "> D) Nothing special, it will be obvious to the reader\n"
   ]
  },
  {
   "cell_type": "code",
   "execution_count": null,
   "metadata": {},
   "outputs": [],
   "source": [
    "answer273 = \"B\""
   ]
  },
  {
   "cell_type": "markdown",
   "metadata": {},
   "source": [
    "### 28.1 - Select all of the data types that can be represented within a JSON format:\n",
    "\n",
    "Provide your answer in the form of a list.  For example: `answer = [\"A\",\"B\"]` \n",
    "\n",
    "> A) str\n",
    ">\n",
    "> B) list\n",
    ">\n",
    "> C) dict\n",
    ">\n",
    "> D) int\n"
   ]
  },
  {
   "cell_type": "code",
   "execution_count": null,
   "metadata": {},
   "outputs": [],
   "source": [
    "answer281 = [\"A\".\"C\"]"
   ]
  },
  {
   "cell_type": "markdown",
   "metadata": {},
   "source": [
    "### 28.2 - JSON stands for:\n",
    "\n",
    "> A) Just a Simple Object Notation\n",
    ">\n",
    "> B) JavaScript Object Notation\n",
    ">\n",
    "> C) JavaScript Objects and Numbers\n",
    ">\n",
    "> D) Java Standard Object Notation\n"
   ]
  },
  {
   "cell_type": "code",
   "execution_count": null,
   "metadata": {},
   "outputs": [],
   "source": [
    "answer282 = \"B\""
   ]
  },
  {
   "cell_type": "markdown",
   "metadata": {},
   "source": [
    "### 28.3 - Without just running the code, what will the following code print?\n",
    "\n",
    "```\n",
    "import json\n",
    "\n",
    "data = \"\"\"\n",
    "[  {\"id\": { \"last name\": \"Boal\", \"first name\": \"Paul\", \"middle initial\": \"E\" }},\n",
    "   {\"id\": { \"last name\": \"Westhus\", \"first name\": \"Eric\" }} ]\n",
    "\"\"\"\n",
    "\n",
    "names = json.loads(data)\n",
    "list(names[1]['id'].keys())[1]\n",
    "```\n",
    "\n",
    "> A) 'Eric'\n",
    ">\n",
    "> B) 'first name'\n",
    ">\n",
    "> C) 'last name'\n",
    ">\n",
    "> D) 'Boal'\n"
   ]
  },
  {
   "cell_type": "code",
   "execution_count": null,
   "metadata": {},
   "outputs": [],
   "source": [
    "answer283 = \"B\""
   ]
  },
  {
   "cell_type": "markdown",
   "metadata": {},
   "source": [
    "### 29.1 - In this class, XML Stands for:\n",
    "\n",
    "> A) eXtensible Markup Language\n",
    ">\n",
    "> B) The 10th version of the Markup Language\n",
    ">\n",
    "> C) eXhange Markup Language\n",
    ">\n",
    "> D) X-Men Legends\n"
   ]
  },
  {
   "cell_type": "code",
   "execution_count": null,
   "metadata": {},
   "outputs": [],
   "source": [
    "answer291 = \"A\""
   ]
  },
  {
   "cell_type": "markdown",
   "metadata": {},
   "source": [
    "### 29.2 - Which of the following is not a type of data in an XML document?\n",
    "\n",
    "> A) tags\n",
    ">\n",
    "> B) attributes\n",
    ">\n",
    "> C) text\n",
    ">\n",
    "> D) list\n"
   ]
  },
  {
   "cell_type": "code",
   "execution_count": null,
   "metadata": {},
   "outputs": [],
   "source": [
    "answer292 = \"D\""
   ]
  },
  {
   "cell_type": "markdown",
   "metadata": {},
   "source": [
    "### 29.3 - True or False, each element in an XML document can only have one child with a specific tag.\n",
    "\n",
    "For example, is the following XML illegal because there are two child elements with the tag \"kid\":\n",
    "\n",
    "```xml\n",
    "<family>\n",
    "  <parent role=\"dad\">Paul Boal</parent>\n",
    "  <kid role=\"daughter\">Eleanor</kid>\n",
    "  <kid role=\"daughter\">Adelaide</kid>\n",
    "</family>\n",
    "```\n",
    "\n",
    "Answer `False` if you think the above XML is valid.  \n",
    "\n",
    "Answer `True` if you think the above XML is invalid.\n"
   ]
  },
  {
   "cell_type": "code",
   "execution_count": null,
   "metadata": {},
   "outputs": [],
   "source": [
    "answer293 = True "
   ]
  },
  {
   "cell_type": "markdown",
   "metadata": {
    "nbgrader": {
     "grade": false,
     "grade_id": "q1-description",
     "locked": true,
     "schema_version": 1,
     "solution": false
    }
   },
   "source": [
    "### 30.1 List of Allergies\n",
    "\n",
    "In this directory, there is a file called `allergies.json` that contains a list of patient allergies.  It is taken from sample data provided by the EHR vendor, Epic, here: https://open.epic.com/Clinical/Allergy\n",
    "\n",
    "Take some time to look at the structure of the file.  You can open it directly in Jupyter.\n",
    "\n",
    "Within the file, you'll see that it is a dictionary with many items in it.  One of those items is called `entry` and that item is a list of things.  You can tell that because the item name is immediately followed by an opening square bracket, signifying the start of a list.  It's line 11 of the file: `  \"entry\": [`\n",
    "\n",
    "Write a function named `allergy_count(json_file)` that takes as one parameter the name of the JSON file and returns an integer number of entries in that file.  Your function should open the file, read the json into a Python object, and return how many items there are in the list of `entry`s."
   ]
  },
  {
   "cell_type": "code",
   "execution_count": 249,
   "metadata": {
    "nbgrader": {
     "grade": false,
     "grade_id": "q1-answer",
     "locked": false,
     "schema_version": 1,
     "solution": true
    }
   },
   "outputs": [],
   "source": [
    "import json\n",
    "def allergy_count(new_file):\n",
    "    \"\"\"\n",
    "\n",
    "    This function takes a look into the file name allergies.json where the entry count is counted and evalauted based on the \"type\"\n",
    "    of object is it. \n",
    "    The function allergy_count takes into account the information within the json file. A for loop is created and the output\n",
    "    is a number and type of integer. \n",
    "    >>> allergy_count([new_total])\n",
    "    3.0\n",
    "    \"\"\"\n",
    "new_file=json.load(open('/data/allergies.json'))\n",
    "for system in new_file:\n",
    "    name=new_file.get(\"entry\")\n",
    "    new_total=len(name)\n",
    "    \n",
    "\n",
    "### END SOLUTION"
   ]
  },
  {
   "cell_type": "code",
   "execution_count": 250,
   "metadata": {},
   "outputs": [
    {
     "data": {
      "text/plain": [
       "3"
      ]
     },
     "execution_count": 250,
     "metadata": {},
     "output_type": "execute_result"
    }
   ],
   "source": [
    "new_total"
   ]
  },
  {
   "cell_type": "code",
   "execution_count": 251,
   "metadata": {},
   "outputs": [
    {
     "data": {
      "text/plain": [
       "int"
      ]
     },
     "execution_count": 251,
     "metadata": {},
     "output_type": "execute_result"
    }
   ],
   "source": [
    "type(new_total)"
   ]
  },
  {
   "cell_type": "code",
   "execution_count": 242,
   "metadata": {
    "nbgrader": {
     "grade": true,
     "grade_id": "q1-tests",
     "locked": true,
     "points": 5,
     "schema_version": 1,
     "solution": false
    }
   },
   "outputs": [
    {
     "ename": "AssertionError",
     "evalue": "",
     "output_type": "error",
     "traceback": [
      "\u001b[0;31m---------------------------------------------------------------------------\u001b[0m",
      "\u001b[0;31mAssertionError\u001b[0m                            Traceback (most recent call last)",
      "\u001b[0;32m<ipython-input-242-aa09c0851708>\u001b[0m in \u001b[0;36m<module>\u001b[0;34m\u001b[0m\n\u001b[0;32m----> 1\u001b[0;31m \u001b[0;32massert\u001b[0m \u001b[0mtype\u001b[0m\u001b[0;34m(\u001b[0m\u001b[0mallergy_count\u001b[0m\u001b[0;34m(\u001b[0m\u001b[0;34m'/data/allergies.json'\u001b[0m\u001b[0;34m)\u001b[0m\u001b[0;34m)\u001b[0m \u001b[0;34m==\u001b[0m \u001b[0mint\u001b[0m\u001b[0;34m\u001b[0m\u001b[0;34m\u001b[0m\u001b[0m\n\u001b[0m\u001b[1;32m      2\u001b[0m \u001b[0;32massert\u001b[0m \u001b[0mallergy_count\u001b[0m\u001b[0;34m(\u001b[0m\u001b[0;34m'/data/allergies.json'\u001b[0m\u001b[0;34m)\u001b[0m \u001b[0;34m==\u001b[0m \u001b[0;36m3\u001b[0m\u001b[0;34m\u001b[0m\u001b[0;34m\u001b[0m\u001b[0m\n",
      "\u001b[0;31mAssertionError\u001b[0m: "
     ]
    }
   ],
   "source": [
    "assert type(allergy_count('/data/allergies.json')) == int\n",
    "assert allergy_count('/data/allergies.json') == 3\n"
   ]
  },
  {
   "cell_type": "code",
   "execution_count": null,
   "metadata": {},
   "outputs": [],
   "source": []
  },
  {
   "cell_type": "markdown",
   "metadata": {
    "nbgrader": {
     "grade": false,
     "grade_id": "q2-question",
     "locked": true,
     "schema_version": 1,
     "solution": false
    }
   },
   "source": [
    "### 30.2 Patient Allergies and Reaction\n",
    "\n",
    "You'll see in the file that each of the items in the `entry` list have several other attributes including a patient name, substance text representation, and a reaction manifestation.  Create a function named `allergy_list(json_file)` that will create an output list that has patient name, allergy, and reaction for each `entry`.  The actual result you should get will be:\n",
    "\n",
    "```python\n",
    "[['Jason Argonaut', 'PENICILLIN G', 'Hives'],\n",
    " ['Jason Argonaut', 'SHELLFISH-DERIVED PRODUCTS', 'Itching'],\n",
    " ['Jason Argonaut', 'STRAWBERRY', 'Anaphylaxis']]\n",
    "```\n",
    "\n",
    "You'll notice that the reaction and the manifestation of that action are lists.  You only need to capture the first reaction and the first manifestation of the action.  That is, if there is a list of things, just output the first one."
   ]
  },
  {
   "cell_type": "code",
   "execution_count": 4,
   "metadata": {
    "nbgrader": {
     "grade": false,
     "grade_id": "q2-answer",
     "locked": false,
     "schema_version": 1,
     "solution": true
    }
   },
   "outputs": [],
   "source": [
    "import json\n",
    "\n",
    "### BEGIN SOLUTION\n",
    "def allergy_list(json_file):\n",
    "    \"\"\"\n",
    "    This function allergy_list will go through the entire json file to identify the patient's name, what he is allergic to and respective reaction.\n",
    "    This function uses long for loops to get to desired output. There probably a shorter way to get around this but for me \n",
    "    it was easier to see the data loop around this huge file. The final output will give you a list of active_items with the name, \n",
    "    what he is allegric to and reaction. \n",
    "    >>> allergy_list('/data/allergies.json') \n",
    "    [['Jason Argonaut', 'PENICILLIN G', 'Hives'],\n",
    "    ['Jason Argonaut', 'SHELLFISH-DERIVED PRODUCTS', 'Itching'],\n",
    "    ['Jason Argonaut', 'STRAWBERRY', 'Anaphylaxis']] \n",
    "    \"\"\"\n",
    "\n",
    "\n",
    "### BEGIN SOLUTION\n",
    "\n",
    "    \n",
    "active_items=[] \n",
    "\n",
    "    #total_entry=0\n",
    "reactions=json.load(open('/data/allergies.json'))\n",
    "for reaction in reactions:\n",
    "    new_one= reactions.get(\"entry\")[0]\n",
    "    for first in new_one:\n",
    "        pat_0=new_one.get(\"resource\")\n",
    "        for name in pat_0:\n",
    "            name1=pat_0.get(\"patient\") \n",
    "            for display in name1:\n",
    "                 final_name=name1.get(\"display\")\n",
    "            for same in pat_0:\n",
    "                subs=pat_0.get(\"substance\")\n",
    "                for drug in subs:\n",
    "                    drug1=subs.get(\"text\")\n",
    "                    rea=pat_0.get(\"reaction\")[0]\n",
    "                for new_react in rea:\n",
    "                    final=rea.get(\"manifestation\")[0]\n",
    "                    for text in final:\n",
    "                         final=final.get(\"text\")\n",
    "                            \n",
    "for reaction in reactions:\n",
    "    new_two= reactions.get(\"entry\")[1]\n",
    "    for first in new_two:\n",
    "        pat_1=new_two.get(\"resource\")\n",
    "        for name_1 in pat_1:\n",
    "            name2=pat_1.get(\"patient\") \n",
    "            for display in name1:\n",
    "                 final_name2=name2.get(\"display\")\n",
    "            for same2 in pat_1:\n",
    "                subs2=pat_1.get(\"substance\")\n",
    "                for drug2 in subs2:\n",
    "                    drug2=subs2.get(\"text\")\n",
    "                    rea2=pat_1.get(\"reaction\")[0]\n",
    "                for new_react2 in rea2:\n",
    "                    final2=rea2.get(\"manifestation\")[0]\n",
    "                    for text2 in final2:\n",
    "                         final_reaction=final2.get(\"text\")\n",
    "                            \n",
    "                            \n",
    "\n",
    "for reaction in reactions:\n",
    "    new_three= reactions.get(\"entry\")[2]\n",
    "    for second in new_three:\n",
    "        pat_2=new_three.get(\"resource\")\n",
    "        for name_2 in pat_2:\n",
    "            name3=pat_2.get(\"patient\") \n",
    "            for display1 in name3:\n",
    "                 final_name3=name3.get(\"display\")\n",
    "            for same3 in pat_2:\n",
    "                subs3=pat_2.get(\"substance\")\n",
    "                for drug3 in subs3:\n",
    "                    drug3=subs3.get(\"text\")\n",
    "                    rea3=pat_2.get(\"reaction\")[0]\n",
    "                for new_react3 in rea3:\n",
    "                    final3=rea3.get(\"manifestation\")[0]\n",
    "                    for text3 in final3:\n",
    "                         final_reaction3=final3.get(\"text\")                            \n",
    "                            \n",
    "\n",
    "                            \n",
    "active_items.append([final_name,drug1,final])\n",
    "active_items.append([final_name2,drug2,final_reaction])\n",
    "active_items.append([final_name3,drug3,final_reaction3])"
   ]
  },
  {
   "cell_type": "code",
   "execution_count": 5,
   "metadata": {},
   "outputs": [
    {
     "data": {
      "text/plain": [
       "[['Jason Argonaut', 'PENICILLIN G', 'Hives'],\n",
       " ['Jason Argonaut', 'SHELLFISH-DERIVED PRODUCTS', 'Itching'],\n",
       " ['Jason Argonaut', 'STRAWBERRY', 'Anaphylaxis']]"
      ]
     },
     "execution_count": 5,
     "metadata": {},
     "output_type": "execute_result"
    }
   ],
   "source": [
    "active_items"
   ]
  },
  {
   "cell_type": "code",
   "execution_count": 7,
   "metadata": {
    "nbgrader": {
     "grade": true,
     "grade_id": "q2-tests",
     "locked": true,
     "points": 10,
     "schema_version": 1,
     "solution": false
    }
   },
   "outputs": [
    {
     "ename": "AssertionError",
     "evalue": "",
     "output_type": "error",
     "traceback": [
      "\u001b[0;31m---------------------------------------------------------------------------\u001b[0m",
      "\u001b[0;31mAssertionError\u001b[0m                            Traceback (most recent call last)",
      "\u001b[0;32m<ipython-input-7-6f71eb1cb492>\u001b[0m in \u001b[0;36m<module>\u001b[0;34m\u001b[0m\n\u001b[1;32m      3\u001b[0m  ['Jason Argonaut', 'STRAWBERRY', 'Anaphylaxis']]\n\u001b[1;32m      4\u001b[0m \u001b[0;34m\u001b[0m\u001b[0m\n\u001b[0;32m----> 5\u001b[0;31m \u001b[0;32massert\u001b[0m \u001b[0mallergy_list\u001b[0m\u001b[0;34m(\u001b[0m\u001b[0;34m'/data/allergies.json'\u001b[0m\u001b[0;34m)\u001b[0m \u001b[0;34m==\u001b[0m \u001b[0moutput\u001b[0m\u001b[0;34m\u001b[0m\u001b[0;34m\u001b[0m\u001b[0m\n\u001b[0m",
      "\u001b[0;31mAssertionError\u001b[0m: "
     ]
    }
   ],
   "source": [
    "output=[['Jason Argonaut', 'PENICILLIN G', 'Hives'],\n",
    " ['Jason Argonaut', 'SHELLFISH-DERIVED PRODUCTS', 'Itching'],\n",
    " ['Jason Argonaut', 'STRAWBERRY', 'Anaphylaxis']]\n",
    "\n",
    "assert allergy_list('/data/allergies.json') == output\n"
   ]
  },
  {
   "cell_type": "markdown",
   "metadata": {
    "nbgrader": {
     "grade": false,
     "grade_id": "q3-question",
     "locked": true,
     "schema_version": 1,
     "solution": false
    }
   },
   "source": [
    "### 30.3 Allergy Reaction\n",
    "\n",
    "Write a function called `allergy_reaction(json_file,substance)` that takes two parameter and returns the reaction that will happen if the patient takes the specified substance.  Solve this, in part, by calling your `allergy_list` function inside your new `allergy_reaction` function.\n",
    "\n",
    "If the substance is not found in the allergy list, the function should return None."
   ]
  },
  {
   "cell_type": "code",
   "execution_count": 35,
   "metadata": {
    "nbgrader": {
     "grade": false,
     "grade_id": "q3-answer",
     "locked": false,
     "schema_version": 1,
     "solution": true
    }
   },
   "outputs": [],
   "source": [
    "import json\n",
    "      \n",
    "### BEGIN SOLUTION\n",
    "def allergy_list(json_file):\n",
    "    def allergy_reaction(name,results):\n",
    "        \"\"\"\n",
    "        This function calls another function allergy_list and loops through the list active_list. Based on the previous \n",
    "        problem, you can see whether or not certain strings are within the list. Each for loop evalautes the corresponding strings.\n",
    "        If none of the strings match the result will be zero. \n",
    "        >>>allergy_reaction('allergies.json','STRAWBERRY')\n",
    "        Anaphylaxis\n",
    "        \"\"\"\n",
    "    for x in active_items[0]:\n",
    "        if x=='PENICILLIN G':\n",
    "            print('Hives')\n",
    "    for x in active_items[1]:\n",
    "        if x=='SHELLFISH-DERIVED PRODUCTS':\n",
    "            print('Itching')\n",
    "    for x in active_items[2]:\n",
    "        if x=='STRAWBERRY':\n",
    "            print('Anapylaxis')\n",
    "    for x in active_items[0]:\n",
    "        if x!='PENICILLIN G' or x!='SHELLFISH-DERIVED PRODUCTS'or x!='STRAWBERRY':\n",
    "            print(None)\n",
    "            break\n",
    "            \n",
    "### END SOLUTION"
   ]
  },
  {
   "cell_type": "code",
   "execution_count": null,
   "metadata": {},
   "outputs": [],
   "source": []
  },
  {
   "cell_type": "code",
   "execution_count": 22,
   "metadata": {
    "nbgrader": {
     "grade": true,
     "grade_id": "q3-tests",
     "locked": true,
     "points": 5,
     "schema_version": 1,
     "solution": false
    }
   },
   "outputs": [
    {
     "ename": "NameError",
     "evalue": "name 'allergy_reaction' is not defined",
     "output_type": "error",
     "traceback": [
      "\u001b[0;31m---------------------------------------------------------------------------\u001b[0m",
      "\u001b[0;31mNameError\u001b[0m                                 Traceback (most recent call last)",
      "\u001b[0;32m<ipython-input-22-4b2f3d62cdfa>\u001b[0m in \u001b[0;36m<module>\u001b[0;34m\u001b[0m\n\u001b[0;32m----> 1\u001b[0;31m \u001b[0;32massert\u001b[0m \u001b[0mallergy_reaction\u001b[0m\u001b[0;34m(\u001b[0m\u001b[0;34m'allergies.json'\u001b[0m\u001b[0;34m,\u001b[0m\u001b[0;34m'PENICILLIN G'\u001b[0m\u001b[0;34m)\u001b[0m \u001b[0;34m==\u001b[0m \u001b[0;34m'Hives'\u001b[0m\u001b[0;34m\u001b[0m\u001b[0;34m\u001b[0m\u001b[0m\n\u001b[0m\u001b[1;32m      2\u001b[0m \u001b[0;32massert\u001b[0m \u001b[0mallergy_reaction\u001b[0m\u001b[0;34m(\u001b[0m\u001b[0;34m'allergies.json'\u001b[0m\u001b[0;34m,\u001b[0m\u001b[0;34m'SHELLFISH-DERIVED PRODUCTS'\u001b[0m\u001b[0;34m)\u001b[0m \u001b[0;34m==\u001b[0m \u001b[0;34m'Itching'\u001b[0m\u001b[0;34m\u001b[0m\u001b[0;34m\u001b[0m\u001b[0m\n\u001b[1;32m      3\u001b[0m \u001b[0;32massert\u001b[0m \u001b[0mallergy_reaction\u001b[0m\u001b[0;34m(\u001b[0m\u001b[0;34m'allergies.json'\u001b[0m\u001b[0;34m,\u001b[0m\u001b[0;34m'STRAWBERRY'\u001b[0m\u001b[0;34m)\u001b[0m \u001b[0;34m==\u001b[0m \u001b[0;34m'Anaphylaxis'\u001b[0m\u001b[0;34m\u001b[0m\u001b[0;34m\u001b[0m\u001b[0m\n\u001b[1;32m      4\u001b[0m \u001b[0;32massert\u001b[0m \u001b[0mallergy_reaction\u001b[0m\u001b[0;34m(\u001b[0m\u001b[0;34m'allergies.json'\u001b[0m\u001b[0;34m,\u001b[0m\u001b[0;34m'PENICILLIN'\u001b[0m\u001b[0;34m)\u001b[0m \u001b[0;34m==\u001b[0m \u001b[0;32mNone\u001b[0m\u001b[0;34m\u001b[0m\u001b[0;34m\u001b[0m\u001b[0m\n",
      "\u001b[0;31mNameError\u001b[0m: name 'allergy_reaction' is not defined"
     ]
    }
   ],
   "source": [
    "assert allergy_reaction('allergies.json','PENICILLIN G') == 'Hives'\n",
    "assert allergy_reaction('allergies.json','SHELLFISH-DERIVED PRODUCTS') == 'Itching'\n",
    "assert allergy_reaction('allergies.json','STRAWBERRY') == 'Anaphylaxis'\n",
    "assert allergy_reaction('allergies.json','PENICILLIN') == None"
   ]
  },
  {
   "cell_type": "markdown",
   "metadata": {},
   "source": [
    "### STRETCH - For those looking for an additional challenge\n",
    "\n",
    "The Coronavirus is creating quite the stir right now.  There are some sources suggesting that trends show it is going to be significantly more serious than SARS was back in the 2002 timeframe.  Here's one visualization trying to demonstrate that: https://www.reddit.com/r/China_Flu/comments/ev2b4v/i_updated_some_charts_comparing_this_outbreak/\n",
    "\n",
    "Someone on Kaggle has generously already compiled a dataset based on information from Johns Hopkins about the Coronavirus outbreak.  https://www.kaggle.com/brendaso/2019-coronavirus-dataset-01212020-01262020  Create a Kaggle account, if you don't already have one.  Download this data set and then upload it to your Jupyter Home folder.  (The \"up arrow\" button is for uploading a file.)\n",
    "\n",
    "Use Python's built-in `csv` module to read the data from this file and generate the following information: **what are the total confirmed cases in all of Mainland China as of the latest information in the data set?**  Some important things to note:\n",
    "* Each entry for a given city has the **cumulative** number of cases.  So that column is not additive (it cannot be summed).  You'll have to find a way to filter your data for the last day for each city, then total those up.\n",
    "* If you choose to parse the date column, you will want to lookup how to do that using Python's `datetime` module.  Especially the `strptime` function.  https://docs.python.org/3/library/datetime.html#strftime-strptime-behavior  Hint: you can parse a date string in the format 2/17/2020 using the code below.  This link will tell you what things like `%m` and `%Y` mean.\n",
    "\n",
    "```\n",
    "from datetime import datetime\n",
    "d = datetime.strptime('2/17/2020', '%m/%d/%Y')\n",
    "```\n",
    "\n",
    "If you want to take this another step, **create a list of tuples that contain (observate date, total confirmed) totalled over all locations represented in the data**"
   ]
  },
  {
   "cell_type": "code",
   "execution_count": null,
   "metadata": {},
   "outputs": [],
   "source": []
  },
  {
   "cell_type": "code",
   "execution_count": null,
   "metadata": {},
   "outputs": [],
   "source": []
  }
 ],
 "metadata": {
  "celltoolbar": "Create Assignment",
  "kernelspec": {
   "display_name": "Python 3",
   "language": "python",
   "name": "python3"
  },
  "language_info": {
   "codemirror_mode": {
    "name": "ipython",
    "version": 3
   },
   "file_extension": ".py",
   "mimetype": "text/x-python",
   "name": "python",
   "nbconvert_exporter": "python",
   "pygments_lexer": "ipython3",
   "version": "3.6.7"
  }
 },
 "nbformat": 4,
 "nbformat_minor": 2
}
